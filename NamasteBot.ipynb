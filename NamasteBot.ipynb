{
  "nbformat": 4,
  "nbformat_minor": 0,
  "metadata": {
    "colab": {
      "provenance": [],
      "authorship_tag": "ABX9TyONV8+y/0W4CMH/Cu6FpEoI",
      "include_colab_link": true
    },
    "kernelspec": {
      "name": "python3",
      "display_name": "Python 3"
    },
    "language_info": {
      "name": "python"
    }
  },
  "cells": [
    {
      "cell_type": "markdown",
      "metadata": {
        "id": "view-in-github",
        "colab_type": "text"
      },
      "source": [
        "<a href=\"https://colab.research.google.com/github/AnkitaSK/NamasteBot/blob/main/NamasteBot.ipynb\" target=\"_parent\"><img src=\"https://colab.research.google.com/assets/colab-badge.svg\" alt=\"Open In Colab\"/></a>"
      ]
    },
    {
      "cell_type": "code",
      "source": [
        "pip install unstructured[pdf] PyPDF2 camelot Pillow sentence-transformers chromadb google-generativeai"
      ],
      "metadata": {
        "colab": {
          "base_uri": "https://localhost:8080/"
        },
        "id": "S4WwF24ZdoLY",
        "outputId": "545bd738-771a-4889-96ea-0611ca54f6bd"
      },
      "execution_count": null,
      "outputs": [
        {
          "output_type": "stream",
          "name": "stdout",
          "text": [
            "Requirement already satisfied: PyPDF2 in /usr/local/lib/python3.11/dist-packages (3.0.1)\n",
            "Requirement already satisfied: camelot in /usr/local/lib/python3.11/dist-packages (12.6.29)\n",
            "Requirement already satisfied: Pillow in /usr/local/lib/python3.11/dist-packages (11.1.0)\n",
            "Requirement already satisfied: sentence-transformers in /usr/local/lib/python3.11/dist-packages (3.3.1)\n",
            "Requirement already satisfied: chromadb in /usr/local/lib/python3.11/dist-packages (0.6.3)\n",
            "Requirement already satisfied: google-generativeai in /usr/local/lib/python3.11/dist-packages (0.8.4)\n",
            "Requirement already satisfied: unstructured[pdf] in /usr/local/lib/python3.11/dist-packages (0.16.17)\n",
            "Requirement already satisfied: chardet in /usr/local/lib/python3.11/dist-packages (from unstructured[pdf]) (5.2.0)\n",
            "Requirement already satisfied: filetype in /usr/local/lib/python3.11/dist-packages (from unstructured[pdf]) (1.2.0)\n",
            "Requirement already satisfied: python-magic in /usr/local/lib/python3.11/dist-packages (from unstructured[pdf]) (0.4.27)\n",
            "Requirement already satisfied: lxml in /usr/local/lib/python3.11/dist-packages (from unstructured[pdf]) (5.3.0)\n",
            "Requirement already satisfied: nltk in /usr/local/lib/python3.11/dist-packages (from unstructured[pdf]) (3.9.1)\n",
            "Requirement already satisfied: requests in /usr/local/lib/python3.11/dist-packages (from unstructured[pdf]) (2.32.3)\n",
            "Requirement already satisfied: beautifulsoup4 in /usr/local/lib/python3.11/dist-packages (from unstructured[pdf]) (4.12.3)\n",
            "Requirement already satisfied: emoji in /usr/local/lib/python3.11/dist-packages (from unstructured[pdf]) (2.14.1)\n",
            "Requirement already satisfied: dataclasses-json in /usr/local/lib/python3.11/dist-packages (from unstructured[pdf]) (0.6.7)\n",
            "Requirement already satisfied: python-iso639 in /usr/local/lib/python3.11/dist-packages (from unstructured[pdf]) (2025.1.28)\n",
            "Requirement already satisfied: langdetect in /usr/local/lib/python3.11/dist-packages (from unstructured[pdf]) (1.0.9)\n",
            "Requirement already satisfied: numpy<2 in /usr/local/lib/python3.11/dist-packages (from unstructured[pdf]) (1.26.4)\n",
            "Requirement already satisfied: rapidfuzz in /usr/local/lib/python3.11/dist-packages (from unstructured[pdf]) (3.12.1)\n",
            "Requirement already satisfied: backoff in /usr/local/lib/python3.11/dist-packages (from unstructured[pdf]) (2.2.1)\n",
            "Requirement already satisfied: typing-extensions in /usr/local/lib/python3.11/dist-packages (from unstructured[pdf]) (4.12.2)\n",
            "Requirement already satisfied: unstructured-client in /usr/local/lib/python3.11/dist-packages (from unstructured[pdf]) (0.29.0)\n",
            "Requirement already satisfied: wrapt in /usr/local/lib/python3.11/dist-packages (from unstructured[pdf]) (1.17.2)\n",
            "Requirement already satisfied: tqdm in /usr/local/lib/python3.11/dist-packages (from unstructured[pdf]) (4.67.1)\n",
            "Requirement already satisfied: psutil in /usr/local/lib/python3.11/dist-packages (from unstructured[pdf]) (5.9.5)\n",
            "Requirement already satisfied: python-oxmsg in /usr/local/lib/python3.11/dist-packages (from unstructured[pdf]) (0.0.1)\n",
            "Requirement already satisfied: html5lib in /usr/local/lib/python3.11/dist-packages (from unstructured[pdf]) (1.1)\n",
            "Requirement already satisfied: onnx in /usr/local/lib/python3.11/dist-packages (from unstructured[pdf]) (1.17.0)\n",
            "Requirement already satisfied: pdf2image in /usr/local/lib/python3.11/dist-packages (from unstructured[pdf]) (1.17.0)\n",
            "Requirement already satisfied: pdfminer.six in /usr/local/lib/python3.11/dist-packages (from unstructured[pdf]) (20240706)\n",
            "Requirement already satisfied: pikepdf in /usr/local/lib/python3.11/dist-packages (from unstructured[pdf]) (9.5.1)\n",
            "Requirement already satisfied: pi-heif in /usr/local/lib/python3.11/dist-packages (from unstructured[pdf]) (0.21.0)\n",
            "Requirement already satisfied: pypdf in /usr/local/lib/python3.11/dist-packages (from unstructured[pdf]) (5.2.0)\n",
            "Requirement already satisfied: google-cloud-vision in /usr/local/lib/python3.11/dist-packages (from unstructured[pdf]) (3.9.0)\n",
            "Requirement already satisfied: effdet in /usr/local/lib/python3.11/dist-packages (from unstructured[pdf]) (0.4.1)\n",
            "Requirement already satisfied: unstructured-inference>=0.8.6 in /usr/local/lib/python3.11/dist-packages (from unstructured[pdf]) (0.8.6)\n",
            "Requirement already satisfied: unstructured.pytesseract>=0.3.12 in /usr/local/lib/python3.11/dist-packages (from unstructured[pdf]) (0.3.13)\n",
            "Requirement already satisfied: SQLAlchemy<0.8.0,>=0.7.7 in /usr/local/lib/python3.11/dist-packages (from camelot) (0.7.10)\n",
            "Requirement already satisfied: Elixir>=0.7.1 in /usr/local/lib/python3.11/dist-packages (from camelot) (0.7.1)\n",
            "Requirement already satisfied: sqlalchemy-migrate>=0.7.1 in /usr/local/lib/python3.11/dist-packages (from camelot) (0.11.0)\n",
            "Requirement already satisfied: Jinja2>=2.5.5 in /usr/local/lib/python3.11/dist-packages (from camelot) (3.1.5)\n",
            "Requirement already satisfied: xlwt==0.7.2 in /usr/local/lib/python3.11/dist-packages (from camelot) (0.7.2)\n",
            "Requirement already satisfied: xlrd==0.7.1 in /usr/local/lib/python3.11/dist-packages (from camelot) (0.7.1)\n",
            "Requirement already satisfied: transformers<5.0.0,>=4.41.0 in /usr/local/lib/python3.11/dist-packages (from sentence-transformers) (4.47.1)\n",
            "Requirement already satisfied: torch>=1.11.0 in /usr/local/lib/python3.11/dist-packages (from sentence-transformers) (2.5.1+cu124)\n",
            "Requirement already satisfied: scikit-learn in /usr/local/lib/python3.11/dist-packages (from sentence-transformers) (1.6.1)\n",
            "Requirement already satisfied: scipy in /usr/local/lib/python3.11/dist-packages (from sentence-transformers) (1.13.1)\n",
            "Requirement already satisfied: huggingface-hub>=0.20.0 in /usr/local/lib/python3.11/dist-packages (from sentence-transformers) (0.27.1)\n",
            "Requirement already satisfied: build>=1.0.3 in /usr/local/lib/python3.11/dist-packages (from chromadb) (1.2.2.post1)\n",
            "Requirement already satisfied: pydantic>=1.9 in /usr/local/lib/python3.11/dist-packages (from chromadb) (2.10.6)\n",
            "Requirement already satisfied: chroma-hnswlib==0.7.6 in /usr/local/lib/python3.11/dist-packages (from chromadb) (0.7.6)\n",
            "Requirement already satisfied: fastapi>=0.95.2 in /usr/local/lib/python3.11/dist-packages (from chromadb) (0.115.8)\n",
            "Requirement already satisfied: uvicorn>=0.18.3 in /usr/local/lib/python3.11/dist-packages (from uvicorn[standard]>=0.18.3->chromadb) (0.34.0)\n",
            "Requirement already satisfied: posthog>=2.4.0 in /usr/local/lib/python3.11/dist-packages (from chromadb) (3.11.0)\n",
            "Requirement already satisfied: onnxruntime>=1.14.1 in /usr/local/lib/python3.11/dist-packages (from chromadb) (1.20.1)\n",
            "Requirement already satisfied: opentelemetry-api>=1.2.0 in /usr/local/lib/python3.11/dist-packages (from chromadb) (1.29.0)\n",
            "Requirement already satisfied: opentelemetry-exporter-otlp-proto-grpc>=1.2.0 in /usr/local/lib/python3.11/dist-packages (from chromadb) (1.29.0)\n",
            "Requirement already satisfied: opentelemetry-instrumentation-fastapi>=0.41b0 in /usr/local/lib/python3.11/dist-packages (from chromadb) (0.50b0)\n",
            "Requirement already satisfied: opentelemetry-sdk>=1.2.0 in /usr/local/lib/python3.11/dist-packages (from chromadb) (1.29.0)\n",
            "Requirement already satisfied: tokenizers>=0.13.2 in /usr/local/lib/python3.11/dist-packages (from chromadb) (0.21.0)\n",
            "Requirement already satisfied: pypika>=0.48.9 in /usr/local/lib/python3.11/dist-packages (from chromadb) (0.48.9)\n",
            "Requirement already satisfied: overrides>=7.3.1 in /usr/local/lib/python3.11/dist-packages (from chromadb) (7.7.0)\n",
            "Requirement already satisfied: importlib-resources in /usr/local/lib/python3.11/dist-packages (from chromadb) (6.5.2)\n",
            "Requirement already satisfied: grpcio>=1.58.0 in /usr/local/lib/python3.11/dist-packages (from chromadb) (1.70.0)\n",
            "Requirement already satisfied: bcrypt>=4.0.1 in /usr/local/lib/python3.11/dist-packages (from chromadb) (4.2.1)\n",
            "Requirement already satisfied: typer>=0.9.0 in /usr/local/lib/python3.11/dist-packages (from chromadb) (0.15.1)\n",
            "Requirement already satisfied: kubernetes>=28.1.0 in /usr/local/lib/python3.11/dist-packages (from chromadb) (32.0.0)\n",
            "Requirement already satisfied: tenacity>=8.2.3 in /usr/local/lib/python3.11/dist-packages (from chromadb) (9.0.0)\n",
            "Requirement already satisfied: PyYAML>=6.0.0 in /usr/local/lib/python3.11/dist-packages (from chromadb) (6.0.2)\n",
            "Requirement already satisfied: mmh3>=4.0.1 in /usr/local/lib/python3.11/dist-packages (from chromadb) (5.1.0)\n",
            "Requirement already satisfied: orjson>=3.9.12 in /usr/local/lib/python3.11/dist-packages (from chromadb) (3.10.15)\n",
            "Requirement already satisfied: httpx>=0.27.0 in /usr/local/lib/python3.11/dist-packages (from chromadb) (0.28.1)\n",
            "Requirement already satisfied: rich>=10.11.0 in /usr/local/lib/python3.11/dist-packages (from chromadb) (13.9.4)\n",
            "Requirement already satisfied: google-ai-generativelanguage==0.6.15 in /usr/local/lib/python3.11/dist-packages (from google-generativeai) (0.6.15)\n",
            "Requirement already satisfied: google-api-core in /usr/local/lib/python3.11/dist-packages (from google-generativeai) (2.19.2)\n",
            "Requirement already satisfied: google-api-python-client in /usr/local/lib/python3.11/dist-packages (from google-generativeai) (2.155.0)\n",
            "Requirement already satisfied: google-auth>=2.15.0 in /usr/local/lib/python3.11/dist-packages (from google-generativeai) (2.27.0)\n",
            "Requirement already satisfied: protobuf in /usr/local/lib/python3.11/dist-packages (from google-generativeai) (5.29.3)\n",
            "Requirement already satisfied: proto-plus<2.0.0dev,>=1.22.3 in /usr/local/lib/python3.11/dist-packages (from google-ai-generativelanguage==0.6.15->google-generativeai) (1.26.0)\n",
            "Requirement already satisfied: packaging>=19.1 in /usr/local/lib/python3.11/dist-packages (from build>=1.0.3->chromadb) (24.2)\n",
            "Requirement already satisfied: pyproject_hooks in /usr/local/lib/python3.11/dist-packages (from build>=1.0.3->chromadb) (1.2.0)\n",
            "Requirement already satisfied: starlette<0.46.0,>=0.40.0 in /usr/local/lib/python3.11/dist-packages (from fastapi>=0.95.2->chromadb) (0.45.3)\n",
            "Requirement already satisfied: googleapis-common-protos<2.0.dev0,>=1.56.2 in /usr/local/lib/python3.11/dist-packages (from google-api-core->google-generativeai) (1.66.0)\n",
            "Requirement already satisfied: cachetools<6.0,>=2.0.0 in /usr/local/lib/python3.11/dist-packages (from google-auth>=2.15.0->google-generativeai) (5.5.1)\n",
            "Requirement already satisfied: pyasn1-modules>=0.2.1 in /usr/local/lib/python3.11/dist-packages (from google-auth>=2.15.0->google-generativeai) (0.4.1)\n",
            "Requirement already satisfied: rsa<5,>=3.1.4 in /usr/local/lib/python3.11/dist-packages (from google-auth>=2.15.0->google-generativeai) (4.9)\n",
            "Requirement already satisfied: anyio in /usr/local/lib/python3.11/dist-packages (from httpx>=0.27.0->chromadb) (3.7.1)\n",
            "Requirement already satisfied: certifi in /usr/local/lib/python3.11/dist-packages (from httpx>=0.27.0->chromadb) (2024.12.14)\n",
            "Requirement already satisfied: httpcore==1.* in /usr/local/lib/python3.11/dist-packages (from httpx>=0.27.0->chromadb) (1.0.7)\n",
            "Requirement already satisfied: idna in /usr/local/lib/python3.11/dist-packages (from httpx>=0.27.0->chromadb) (3.10)\n",
            "Requirement already satisfied: h11<0.15,>=0.13 in /usr/local/lib/python3.11/dist-packages (from httpcore==1.*->httpx>=0.27.0->chromadb) (0.14.0)\n",
            "Requirement already satisfied: filelock in /usr/local/lib/python3.11/dist-packages (from huggingface-hub>=0.20.0->sentence-transformers) (3.17.0)\n",
            "Requirement already satisfied: fsspec>=2023.5.0 in /usr/local/lib/python3.11/dist-packages (from huggingface-hub>=0.20.0->sentence-transformers) (2024.10.0)\n",
            "Requirement already satisfied: MarkupSafe>=2.0 in /usr/local/lib/python3.11/dist-packages (from Jinja2>=2.5.5->camelot) (3.0.2)\n",
            "Requirement already satisfied: six>=1.9.0 in /usr/local/lib/python3.11/dist-packages (from kubernetes>=28.1.0->chromadb) (1.17.0)\n",
            "Requirement already satisfied: python-dateutil>=2.5.3 in /usr/local/lib/python3.11/dist-packages (from kubernetes>=28.1.0->chromadb) (2.8.2)\n",
            "Requirement already satisfied: websocket-client!=0.40.0,!=0.41.*,!=0.42.*,>=0.32.0 in /usr/local/lib/python3.11/dist-packages (from kubernetes>=28.1.0->chromadb) (1.8.0)\n",
            "Requirement already satisfied: requests-oauthlib in /usr/local/lib/python3.11/dist-packages (from kubernetes>=28.1.0->chromadb) (1.3.1)\n",
            "Requirement already satisfied: oauthlib>=3.2.2 in /usr/local/lib/python3.11/dist-packages (from kubernetes>=28.1.0->chromadb) (3.2.2)\n",
            "Requirement already satisfied: urllib3>=1.24.2 in /usr/local/lib/python3.11/dist-packages (from kubernetes>=28.1.0->chromadb) (2.3.0)\n",
            "Requirement already satisfied: durationpy>=0.7 in /usr/local/lib/python3.11/dist-packages (from kubernetes>=28.1.0->chromadb) (0.9)\n",
            "Requirement already satisfied: coloredlogs in /usr/local/lib/python3.11/dist-packages (from onnxruntime>=1.14.1->chromadb) (15.0.1)\n",
            "Requirement already satisfied: flatbuffers in /usr/local/lib/python3.11/dist-packages (from onnxruntime>=1.14.1->chromadb) (25.1.24)\n",
            "Requirement already satisfied: sympy in /usr/local/lib/python3.11/dist-packages (from onnxruntime>=1.14.1->chromadb) (1.13.1)\n",
            "Requirement already satisfied: deprecated>=1.2.6 in /usr/local/lib/python3.11/dist-packages (from opentelemetry-api>=1.2.0->chromadb) (1.2.18)\n",
            "Requirement already satisfied: importlib-metadata<=8.5.0,>=6.0 in /usr/local/lib/python3.11/dist-packages (from opentelemetry-api>=1.2.0->chromadb) (8.5.0)\n",
            "Requirement already satisfied: opentelemetry-exporter-otlp-proto-common==1.29.0 in /usr/local/lib/python3.11/dist-packages (from opentelemetry-exporter-otlp-proto-grpc>=1.2.0->chromadb) (1.29.0)\n",
            "Requirement already satisfied: opentelemetry-proto==1.29.0 in /usr/local/lib/python3.11/dist-packages (from opentelemetry-exporter-otlp-proto-grpc>=1.2.0->chromadb) (1.29.0)\n",
            "Requirement already satisfied: opentelemetry-instrumentation-asgi==0.50b0 in /usr/local/lib/python3.11/dist-packages (from opentelemetry-instrumentation-fastapi>=0.41b0->chromadb) (0.50b0)\n",
            "Requirement already satisfied: opentelemetry-instrumentation==0.50b0 in /usr/local/lib/python3.11/dist-packages (from opentelemetry-instrumentation-fastapi>=0.41b0->chromadb) (0.50b0)\n",
            "Requirement already satisfied: opentelemetry-semantic-conventions==0.50b0 in /usr/local/lib/python3.11/dist-packages (from opentelemetry-instrumentation-fastapi>=0.41b0->chromadb) (0.50b0)\n",
            "Requirement already satisfied: opentelemetry-util-http==0.50b0 in /usr/local/lib/python3.11/dist-packages (from opentelemetry-instrumentation-fastapi>=0.41b0->chromadb) (0.50b0)\n",
            "Requirement already satisfied: asgiref~=3.0 in /usr/local/lib/python3.11/dist-packages (from opentelemetry-instrumentation-asgi==0.50b0->opentelemetry-instrumentation-fastapi>=0.41b0->chromadb) (3.8.1)\n",
            "Requirement already satisfied: monotonic>=1.5 in /usr/local/lib/python3.11/dist-packages (from posthog>=2.4.0->chromadb) (1.6)\n",
            "Requirement already satisfied: annotated-types>=0.6.0 in /usr/local/lib/python3.11/dist-packages (from pydantic>=1.9->chromadb) (0.7.0)\n",
            "Requirement already satisfied: pydantic-core==2.27.2 in /usr/local/lib/python3.11/dist-packages (from pydantic>=1.9->chromadb) (2.27.2)\n",
            "Requirement already satisfied: charset-normalizer<4,>=2 in /usr/local/lib/python3.11/dist-packages (from requests->unstructured[pdf]) (3.4.1)\n",
            "Requirement already satisfied: markdown-it-py>=2.2.0 in /usr/local/lib/python3.11/dist-packages (from rich>=10.11.0->chromadb) (3.0.0)\n",
            "Requirement already satisfied: pygments<3.0.0,>=2.13.0 in /usr/local/lib/python3.11/dist-packages (from rich>=10.11.0->chromadb) (2.18.0)\n",
            "Requirement already satisfied: pbr>=1.8 in /usr/local/lib/python3.11/dist-packages (from sqlalchemy-migrate>=0.7.1->camelot) (6.1.0)\n",
            "Requirement already satisfied: decorator in /usr/local/lib/python3.11/dist-packages (from sqlalchemy-migrate>=0.7.1->camelot) (4.4.2)\n",
            "Requirement already satisfied: sqlparse in /usr/local/lib/python3.11/dist-packages (from sqlalchemy-migrate>=0.7.1->camelot) (0.5.3)\n",
            "Requirement already satisfied: Tempita>=0.4 in /usr/local/lib/python3.11/dist-packages (from sqlalchemy-migrate>=0.7.1->camelot) (0.6.0)\n",
            "Requirement already satisfied: networkx in /usr/local/lib/python3.11/dist-packages (from torch>=1.11.0->sentence-transformers) (3.4.2)\n",
            "Requirement already satisfied: nvidia-cuda-nvrtc-cu12==12.4.127 in /usr/local/lib/python3.11/dist-packages (from torch>=1.11.0->sentence-transformers) (12.4.127)\n",
            "Requirement already satisfied: nvidia-cuda-runtime-cu12==12.4.127 in /usr/local/lib/python3.11/dist-packages (from torch>=1.11.0->sentence-transformers) (12.4.127)\n",
            "Requirement already satisfied: nvidia-cuda-cupti-cu12==12.4.127 in /usr/local/lib/python3.11/dist-packages (from torch>=1.11.0->sentence-transformers) (12.4.127)\n",
            "Requirement already satisfied: nvidia-cudnn-cu12==9.1.0.70 in /usr/local/lib/python3.11/dist-packages (from torch>=1.11.0->sentence-transformers) (9.1.0.70)\n",
            "Requirement already satisfied: nvidia-cublas-cu12==12.4.5.8 in /usr/local/lib/python3.11/dist-packages (from torch>=1.11.0->sentence-transformers) (12.4.5.8)\n",
            "Requirement already satisfied: nvidia-cufft-cu12==11.2.1.3 in /usr/local/lib/python3.11/dist-packages (from torch>=1.11.0->sentence-transformers) (11.2.1.3)\n",
            "Requirement already satisfied: nvidia-curand-cu12==10.3.5.147 in /usr/local/lib/python3.11/dist-packages (from torch>=1.11.0->sentence-transformers) (10.3.5.147)\n",
            "Requirement already satisfied: nvidia-cusolver-cu12==11.6.1.9 in /usr/local/lib/python3.11/dist-packages (from torch>=1.11.0->sentence-transformers) (11.6.1.9)\n",
            "Requirement already satisfied: nvidia-cusparse-cu12==12.3.1.170 in /usr/local/lib/python3.11/dist-packages (from torch>=1.11.0->sentence-transformers) (12.3.1.170)\n",
            "Requirement already satisfied: nvidia-nccl-cu12==2.21.5 in /usr/local/lib/python3.11/dist-packages (from torch>=1.11.0->sentence-transformers) (2.21.5)\n",
            "Requirement already satisfied: nvidia-nvtx-cu12==12.4.127 in /usr/local/lib/python3.11/dist-packages (from torch>=1.11.0->sentence-transformers) (12.4.127)\n",
            "Requirement already satisfied: nvidia-nvjitlink-cu12==12.4.127 in /usr/local/lib/python3.11/dist-packages (from torch>=1.11.0->sentence-transformers) (12.4.127)\n",
            "Requirement already satisfied: triton==3.1.0 in /usr/local/lib/python3.11/dist-packages (from torch>=1.11.0->sentence-transformers) (3.1.0)\n",
            "Requirement already satisfied: mpmath<1.4,>=1.1.0 in /usr/local/lib/python3.11/dist-packages (from sympy->onnxruntime>=1.14.1->chromadb) (1.3.0)\n",
            "Requirement already satisfied: regex!=2019.12.17 in /usr/local/lib/python3.11/dist-packages (from transformers<5.0.0,>=4.41.0->sentence-transformers) (2024.11.6)\n",
            "Requirement already satisfied: safetensors>=0.4.1 in /usr/local/lib/python3.11/dist-packages (from transformers<5.0.0,>=4.41.0->sentence-transformers) (0.5.2)\n",
            "Requirement already satisfied: click>=8.0.0 in /usr/local/lib/python3.11/dist-packages (from typer>=0.9.0->chromadb) (8.1.8)\n",
            "Requirement already satisfied: shellingham>=1.3.0 in /usr/local/lib/python3.11/dist-packages (from typer>=0.9.0->chromadb) (1.5.4)\n",
            "Requirement already satisfied: python-multipart in /usr/local/lib/python3.11/dist-packages (from unstructured-inference>=0.8.6->unstructured[pdf]) (0.0.20)\n",
            "Requirement already satisfied: opencv-python!=4.7.0.68 in /usr/local/lib/python3.11/dist-packages (from unstructured-inference>=0.8.6->unstructured[pdf]) (4.10.0.84)\n",
            "Requirement already satisfied: matplotlib in /usr/local/lib/python3.11/dist-packages (from unstructured-inference>=0.8.6->unstructured[pdf]) (3.10.0)\n",
            "Requirement already satisfied: timm in /usr/local/lib/python3.11/dist-packages (from unstructured-inference>=0.8.6->unstructured[pdf]) (1.0.14)\n",
            "Requirement already satisfied: pandas in /usr/local/lib/python3.11/dist-packages (from unstructured-inference>=0.8.6->unstructured[pdf]) (2.2.2)\n",
            "Requirement already satisfied: pypdfium2 in /usr/local/lib/python3.11/dist-packages (from unstructured-inference>=0.8.6->unstructured[pdf]) (4.30.1)\n",
            "Requirement already satisfied: cryptography>=36.0.0 in /usr/local/lib/python3.11/dist-packages (from pdfminer.six->unstructured[pdf]) (43.0.3)\n",
            "Requirement already satisfied: httptools>=0.6.3 in /usr/local/lib/python3.11/dist-packages (from uvicorn[standard]>=0.18.3->chromadb) (0.6.4)\n",
            "Requirement already satisfied: python-dotenv>=0.13 in /usr/local/lib/python3.11/dist-packages (from uvicorn[standard]>=0.18.3->chromadb) (1.0.1)\n",
            "Requirement already satisfied: uvloop!=0.15.0,!=0.15.1,>=0.14.0 in /usr/local/lib/python3.11/dist-packages (from uvicorn[standard]>=0.18.3->chromadb) (0.21.0)\n",
            "Requirement already satisfied: watchfiles>=0.13 in /usr/local/lib/python3.11/dist-packages (from uvicorn[standard]>=0.18.3->chromadb) (1.0.4)\n",
            "Requirement already satisfied: websockets>=10.4 in /usr/local/lib/python3.11/dist-packages (from uvicorn[standard]>=0.18.3->chromadb) (14.2)\n",
            "Requirement already satisfied: soupsieve>1.2 in /usr/local/lib/python3.11/dist-packages (from beautifulsoup4->unstructured[pdf]) (2.6)\n",
            "Requirement already satisfied: marshmallow<4.0.0,>=3.18.0 in /usr/local/lib/python3.11/dist-packages (from dataclasses-json->unstructured[pdf]) (3.26.0)\n",
            "Requirement already satisfied: typing-inspect<1,>=0.4.0 in /usr/local/lib/python3.11/dist-packages (from dataclasses-json->unstructured[pdf]) (0.9.0)\n",
            "Requirement already satisfied: torchvision in /usr/local/lib/python3.11/dist-packages (from effdet->unstructured[pdf]) (0.20.1+cu124)\n",
            "Requirement already satisfied: pycocotools>=2.0.2 in /usr/local/lib/python3.11/dist-packages (from effdet->unstructured[pdf]) (2.0.8)\n",
            "Requirement already satisfied: omegaconf>=2.0 in /usr/local/lib/python3.11/dist-packages (from effdet->unstructured[pdf]) (2.3.0)\n",
            "Requirement already satisfied: httplib2<1.dev0,>=0.19.0 in /usr/local/lib/python3.11/dist-packages (from google-api-python-client->google-generativeai) (0.22.0)\n",
            "Requirement already satisfied: google-auth-httplib2<1.0.0,>=0.2.0 in /usr/local/lib/python3.11/dist-packages (from google-api-python-client->google-generativeai) (0.2.0)\n",
            "Requirement already satisfied: uritemplate<5,>=3.0.1 in /usr/local/lib/python3.11/dist-packages (from google-api-python-client->google-generativeai) (4.1.1)\n",
            "Requirement already satisfied: webencodings in /usr/local/lib/python3.11/dist-packages (from html5lib->unstructured[pdf]) (0.5.1)\n",
            "Requirement already satisfied: joblib in /usr/local/lib/python3.11/dist-packages (from nltk->unstructured[pdf]) (1.4.2)\n",
            "Requirement already satisfied: olefile in /usr/local/lib/python3.11/dist-packages (from python-oxmsg->unstructured[pdf]) (0.47)\n",
            "Requirement already satisfied: threadpoolctl>=3.1.0 in /usr/local/lib/python3.11/dist-packages (from scikit-learn->sentence-transformers) (3.5.0)\n",
            "Requirement already satisfied: aiofiles>=24.1.0 in /usr/local/lib/python3.11/dist-packages (from unstructured-client->unstructured[pdf]) (24.1.0)\n",
            "Requirement already satisfied: eval-type-backport<0.3.0,>=0.2.0 in /usr/local/lib/python3.11/dist-packages (from unstructured-client->unstructured[pdf]) (0.2.2)\n",
            "Requirement already satisfied: jsonpath-python<2.0.0,>=1.0.6 in /usr/local/lib/python3.11/dist-packages (from unstructured-client->unstructured[pdf]) (1.0.6)\n",
            "Requirement already satisfied: nest-asyncio>=1.6.0 in /usr/local/lib/python3.11/dist-packages (from unstructured-client->unstructured[pdf]) (1.6.0)\n",
            "Requirement already satisfied: requests-toolbelt>=1.0.0 in /usr/local/lib/python3.11/dist-packages (from unstructured-client->unstructured[pdf]) (1.0.0)\n",
            "Requirement already satisfied: cffi>=1.12 in /usr/local/lib/python3.11/dist-packages (from cryptography>=36.0.0->pdfminer.six->unstructured[pdf]) (1.17.1)\n",
            "Requirement already satisfied: grpcio-status<2.0.dev0,>=1.33.2 in /usr/local/lib/python3.11/dist-packages (from google-api-core[grpc]!=2.0.*,!=2.1.*,!=2.10.*,!=2.2.*,!=2.3.*,!=2.4.*,!=2.5.*,!=2.6.*,!=2.7.*,!=2.8.*,!=2.9.*,<3.0.0dev,>=1.34.1->google-ai-generativelanguage==0.6.15->google-generativeai) (1.62.3)\n",
            "Requirement already satisfied: pyparsing!=3.0.0,!=3.0.1,!=3.0.2,!=3.0.3,<4,>=2.4.2 in /usr/local/lib/python3.11/dist-packages (from httplib2<1.dev0,>=0.19.0->google-api-python-client->google-generativeai) (3.2.1)\n",
            "Requirement already satisfied: zipp>=3.20 in /usr/local/lib/python3.11/dist-packages (from importlib-metadata<=8.5.0,>=6.0->opentelemetry-api>=1.2.0->chromadb) (3.21.0)\n",
            "Requirement already satisfied: mdurl~=0.1 in /usr/local/lib/python3.11/dist-packages (from markdown-it-py>=2.2.0->rich>=10.11.0->chromadb) (0.1.2)\n",
            "Requirement already satisfied: antlr4-python3-runtime==4.9.* in /usr/local/lib/python3.11/dist-packages (from omegaconf>=2.0->effdet->unstructured[pdf]) (4.9.3)\n",
            "Requirement already satisfied: pyasn1<0.7.0,>=0.4.6 in /usr/local/lib/python3.11/dist-packages (from pyasn1-modules>=0.2.1->google-auth>=2.15.0->google-generativeai) (0.6.1)\n",
            "Requirement already satisfied: contourpy>=1.0.1 in /usr/local/lib/python3.11/dist-packages (from matplotlib->unstructured-inference>=0.8.6->unstructured[pdf]) (1.3.1)\n",
            "Requirement already satisfied: cycler>=0.10 in /usr/local/lib/python3.11/dist-packages (from matplotlib->unstructured-inference>=0.8.6->unstructured[pdf]) (0.12.1)\n",
            "Requirement already satisfied: fonttools>=4.22.0 in /usr/local/lib/python3.11/dist-packages (from matplotlib->unstructured-inference>=0.8.6->unstructured[pdf]) (4.55.7)\n",
            "Requirement already satisfied: kiwisolver>=1.3.1 in /usr/local/lib/python3.11/dist-packages (from matplotlib->unstructured-inference>=0.8.6->unstructured[pdf]) (1.4.8)\n",
            "Requirement already satisfied: sniffio>=1.1 in /usr/local/lib/python3.11/dist-packages (from anyio->httpx>=0.27.0->chromadb) (1.3.1)\n",
            "Requirement already satisfied: mypy-extensions>=0.3.0 in /usr/local/lib/python3.11/dist-packages (from typing-inspect<1,>=0.4.0->dataclasses-json->unstructured[pdf]) (1.0.0)\n",
            "Requirement already satisfied: humanfriendly>=9.1 in /usr/local/lib/python3.11/dist-packages (from coloredlogs->onnxruntime>=1.14.1->chromadb) (10.0)\n",
            "Requirement already satisfied: pytz>=2020.1 in /usr/local/lib/python3.11/dist-packages (from pandas->unstructured-inference>=0.8.6->unstructured[pdf]) (2024.2)\n",
            "Requirement already satisfied: tzdata>=2022.7 in /usr/local/lib/python3.11/dist-packages (from pandas->unstructured-inference>=0.8.6->unstructured[pdf]) (2025.1)\n",
            "Requirement already satisfied: pycparser in /usr/local/lib/python3.11/dist-packages (from cffi>=1.12->cryptography>=36.0.0->pdfminer.six->unstructured[pdf]) (2.22)\n"
          ]
        }
      ]
    },
    {
      "cell_type": "code",
      "source": [
        "pip install -U langchain-community"
      ],
      "metadata": {
        "colab": {
          "base_uri": "https://localhost:8080/"
        },
        "id": "QEMrVm8pj5yT",
        "outputId": "f71d9691-4f9f-4c67-a921-9fcdb3282394"
      },
      "execution_count": null,
      "outputs": [
        {
          "output_type": "stream",
          "name": "stdout",
          "text": [
            "Requirement already satisfied: langchain-community in /usr/local/lib/python3.11/dist-packages (0.3.16)\n",
            "Requirement already satisfied: PyYAML>=5.3 in /usr/local/lib/python3.11/dist-packages (from langchain-community) (6.0.2)\n",
            "Collecting SQLAlchemy<3,>=1.4 (from langchain-community)\n",
            "  Using cached SQLAlchemy-2.0.37-cp311-cp311-manylinux_2_17_x86_64.manylinux2014_x86_64.whl.metadata (9.6 kB)\n",
            "Requirement already satisfied: aiohttp<4.0.0,>=3.8.3 in /usr/local/lib/python3.11/dist-packages (from langchain-community) (3.11.11)\n",
            "Requirement already satisfied: dataclasses-json<0.7,>=0.5.7 in /usr/local/lib/python3.11/dist-packages (from langchain-community) (0.6.7)\n",
            "Requirement already satisfied: httpx-sse<0.5.0,>=0.4.0 in /usr/local/lib/python3.11/dist-packages (from langchain-community) (0.4.0)\n",
            "Requirement already satisfied: langchain<0.4.0,>=0.3.16 in /usr/local/lib/python3.11/dist-packages (from langchain-community) (0.3.16)\n",
            "Requirement already satisfied: langchain-core<0.4.0,>=0.3.32 in /usr/local/lib/python3.11/dist-packages (from langchain-community) (0.3.32)\n",
            "Requirement already satisfied: langsmith<0.4,>=0.1.125 in /usr/local/lib/python3.11/dist-packages (from langchain-community) (0.3.2)\n",
            "Requirement already satisfied: numpy<2,>=1.22.4 in /usr/local/lib/python3.11/dist-packages (from langchain-community) (1.26.4)\n",
            "Requirement already satisfied: pydantic-settings<3.0.0,>=2.4.0 in /usr/local/lib/python3.11/dist-packages (from langchain-community) (2.7.1)\n",
            "Requirement already satisfied: requests<3,>=2 in /usr/local/lib/python3.11/dist-packages (from langchain-community) (2.32.3)\n",
            "Requirement already satisfied: tenacity!=8.4.0,<10,>=8.1.0 in /usr/local/lib/python3.11/dist-packages (from langchain-community) (9.0.0)\n",
            "Requirement already satisfied: aiohappyeyeballs>=2.3.0 in /usr/local/lib/python3.11/dist-packages (from aiohttp<4.0.0,>=3.8.3->langchain-community) (2.4.4)\n",
            "Requirement already satisfied: aiosignal>=1.1.2 in /usr/local/lib/python3.11/dist-packages (from aiohttp<4.0.0,>=3.8.3->langchain-community) (1.3.2)\n",
            "Requirement already satisfied: attrs>=17.3.0 in /usr/local/lib/python3.11/dist-packages (from aiohttp<4.0.0,>=3.8.3->langchain-community) (25.1.0)\n",
            "Requirement already satisfied: frozenlist>=1.1.1 in /usr/local/lib/python3.11/dist-packages (from aiohttp<4.0.0,>=3.8.3->langchain-community) (1.5.0)\n",
            "Requirement already satisfied: multidict<7.0,>=4.5 in /usr/local/lib/python3.11/dist-packages (from aiohttp<4.0.0,>=3.8.3->langchain-community) (6.1.0)\n",
            "Requirement already satisfied: propcache>=0.2.0 in /usr/local/lib/python3.11/dist-packages (from aiohttp<4.0.0,>=3.8.3->langchain-community) (0.2.1)\n",
            "Requirement already satisfied: yarl<2.0,>=1.17.0 in /usr/local/lib/python3.11/dist-packages (from aiohttp<4.0.0,>=3.8.3->langchain-community) (1.18.3)\n",
            "Requirement already satisfied: marshmallow<4.0.0,>=3.18.0 in /usr/local/lib/python3.11/dist-packages (from dataclasses-json<0.7,>=0.5.7->langchain-community) (3.26.0)\n",
            "Requirement already satisfied: typing-inspect<1,>=0.4.0 in /usr/local/lib/python3.11/dist-packages (from dataclasses-json<0.7,>=0.5.7->langchain-community) (0.9.0)\n",
            "Requirement already satisfied: langchain-text-splitters<0.4.0,>=0.3.3 in /usr/local/lib/python3.11/dist-packages (from langchain<0.4.0,>=0.3.16->langchain-community) (0.3.5)\n",
            "Requirement already satisfied: pydantic<3.0.0,>=2.7.4 in /usr/local/lib/python3.11/dist-packages (from langchain<0.4.0,>=0.3.16->langchain-community) (2.10.6)\n",
            "Requirement already satisfied: jsonpatch<2.0,>=1.33 in /usr/local/lib/python3.11/dist-packages (from langchain-core<0.4.0,>=0.3.32->langchain-community) (1.33)\n",
            "Requirement already satisfied: packaging<25,>=23.2 in /usr/local/lib/python3.11/dist-packages (from langchain-core<0.4.0,>=0.3.32->langchain-community) (24.2)\n",
            "Requirement already satisfied: typing-extensions>=4.7 in /usr/local/lib/python3.11/dist-packages (from langchain-core<0.4.0,>=0.3.32->langchain-community) (4.12.2)\n",
            "Requirement already satisfied: httpx<1,>=0.23.0 in /usr/local/lib/python3.11/dist-packages (from langsmith<0.4,>=0.1.125->langchain-community) (0.28.1)\n",
            "Requirement already satisfied: orjson<4.0.0,>=3.9.14 in /usr/local/lib/python3.11/dist-packages (from langsmith<0.4,>=0.1.125->langchain-community) (3.10.15)\n",
            "Requirement already satisfied: requests-toolbelt<2.0.0,>=1.0.0 in /usr/local/lib/python3.11/dist-packages (from langsmith<0.4,>=0.1.125->langchain-community) (1.0.0)\n",
            "Requirement already satisfied: zstandard<0.24.0,>=0.23.0 in /usr/local/lib/python3.11/dist-packages (from langsmith<0.4,>=0.1.125->langchain-community) (0.23.0)\n",
            "Requirement already satisfied: python-dotenv>=0.21.0 in /usr/local/lib/python3.11/dist-packages (from pydantic-settings<3.0.0,>=2.4.0->langchain-community) (1.0.1)\n",
            "Requirement already satisfied: charset-normalizer<4,>=2 in /usr/local/lib/python3.11/dist-packages (from requests<3,>=2->langchain-community) (3.4.1)\n",
            "Requirement already satisfied: idna<4,>=2.5 in /usr/local/lib/python3.11/dist-packages (from requests<3,>=2->langchain-community) (3.10)\n",
            "Requirement already satisfied: urllib3<3,>=1.21.1 in /usr/local/lib/python3.11/dist-packages (from requests<3,>=2->langchain-community) (2.3.0)\n",
            "Requirement already satisfied: certifi>=2017.4.17 in /usr/local/lib/python3.11/dist-packages (from requests<3,>=2->langchain-community) (2024.12.14)\n",
            "Requirement already satisfied: greenlet!=0.4.17 in /usr/local/lib/python3.11/dist-packages (from SQLAlchemy<3,>=1.4->langchain-community) (3.1.1)\n",
            "Requirement already satisfied: anyio in /usr/local/lib/python3.11/dist-packages (from httpx<1,>=0.23.0->langsmith<0.4,>=0.1.125->langchain-community) (3.7.1)\n",
            "Requirement already satisfied: httpcore==1.* in /usr/local/lib/python3.11/dist-packages (from httpx<1,>=0.23.0->langsmith<0.4,>=0.1.125->langchain-community) (1.0.7)\n",
            "Requirement already satisfied: h11<0.15,>=0.13 in /usr/local/lib/python3.11/dist-packages (from httpcore==1.*->httpx<1,>=0.23.0->langsmith<0.4,>=0.1.125->langchain-community) (0.14.0)\n",
            "Requirement already satisfied: jsonpointer>=1.9 in /usr/local/lib/python3.11/dist-packages (from jsonpatch<2.0,>=1.33->langchain-core<0.4.0,>=0.3.32->langchain-community) (3.0.0)\n",
            "Requirement already satisfied: annotated-types>=0.6.0 in /usr/local/lib/python3.11/dist-packages (from pydantic<3.0.0,>=2.7.4->langchain<0.4.0,>=0.3.16->langchain-community) (0.7.0)\n",
            "Requirement already satisfied: pydantic-core==2.27.2 in /usr/local/lib/python3.11/dist-packages (from pydantic<3.0.0,>=2.7.4->langchain<0.4.0,>=0.3.16->langchain-community) (2.27.2)\n",
            "Requirement already satisfied: mypy-extensions>=0.3.0 in /usr/local/lib/python3.11/dist-packages (from typing-inspect<1,>=0.4.0->dataclasses-json<0.7,>=0.5.7->langchain-community) (1.0.0)\n",
            "Requirement already satisfied: sniffio>=1.1 in /usr/local/lib/python3.11/dist-packages (from anyio->httpx<1,>=0.23.0->langsmith<0.4,>=0.1.125->langchain-community) (1.3.1)\n",
            "Using cached SQLAlchemy-2.0.37-cp311-cp311-manylinux_2_17_x86_64.manylinux2014_x86_64.whl (3.2 MB)\n",
            "Installing collected packages: SQLAlchemy\n",
            "  Attempting uninstall: SQLAlchemy\n",
            "    Found existing installation: SQLAlchemy 0.7.10\n",
            "    Uninstalling SQLAlchemy-0.7.10:\n",
            "      Successfully uninstalled SQLAlchemy-0.7.10\n",
            "\u001b[31mERROR: pip's dependency resolver does not currently take into account all the packages that are installed. This behaviour is the source of the following dependency conflicts.\n",
            "camelot 12.6.29 requires SQLAlchemy<0.8.0,>=0.7.7, but you have sqlalchemy 2.0.37 which is incompatible.\u001b[0m\u001b[31m\n",
            "\u001b[0mSuccessfully installed SQLAlchemy-2.0.37\n"
          ]
        }
      ]
    },
    {
      "cell_type": "code",
      "source": [
        "from PyPDF2 import PdfReader\n",
        "import camelot\n",
        "from PIL import Image\n",
        "from sentence_transformers import SentenceTransformer\n",
        "from chromadb import Client\n",
        "from langchain.embeddings import HuggingFaceEmbeddings\n",
        "from langchain.vectorstores import Chroma\n",
        "import google.generativeai as genai\n",
        "import io\n",
        "import zlib\n",
        "import imageio.v3 as iio"
      ],
      "metadata": {
        "id": "GOEliEnyjrs6"
      },
      "execution_count": null,
      "outputs": []
    },
    {
      "cell_type": "code",
      "source": [
        "# Load your PDF file\n",
        "# reader = PdfReader(\"/content/Haridwar-Travel-Guide-by-ixigo.com.pdf\")"
      ],
      "metadata": {
        "id": "rOPSk_NFm4mC"
      },
      "execution_count": null,
      "outputs": []
    },
    {
      "cell_type": "code",
      "source": [
        "# def process_pdf_page(page):\n",
        "#   # extract text\n",
        "#   text = page.extract_text()\n",
        "\n",
        "#   return text"
      ],
      "metadata": {
        "id": "bWY0PU4vm2eV"
      },
      "execution_count": null,
      "outputs": []
    },
    {
      "cell_type": "code",
      "source": [
        "# for page_num in range(len(reader.pages)):\n",
        "#     page = reader.pages[page_num]\n",
        "#     text = process_pdf_page(page)\n",
        "\n"
      ],
      "metadata": {
        "id": "SEd2Zz6skwGA"
      },
      "execution_count": null,
      "outputs": []
    },
    {
      "cell_type": "code",
      "source": [
        "!apt-get install -y poppler-utils"
      ],
      "metadata": {
        "colab": {
          "base_uri": "https://localhost:8080/"
        },
        "id": "YsSeuWafEZ4y",
        "outputId": "dd947751-b832-4603-df55-c807c3db68b1"
      },
      "execution_count": null,
      "outputs": [
        {
          "output_type": "stream",
          "name": "stdout",
          "text": [
            "Reading package lists... Done\n",
            "Building dependency tree... Done\n",
            "Reading state information... Done\n",
            "The following NEW packages will be installed:\n",
            "  poppler-utils\n",
            "0 upgraded, 1 newly installed, 0 to remove and 18 not upgraded.\n",
            "Need to get 186 kB of archives.\n",
            "After this operation, 696 kB of additional disk space will be used.\n",
            "Get:1 http://archive.ubuntu.com/ubuntu jammy-updates/main amd64 poppler-utils amd64 22.02.0-2ubuntu0.6 [186 kB]\n",
            "Fetched 186 kB in 1s (140 kB/s)\n",
            "Selecting previously unselected package poppler-utils.\n",
            "(Reading database ... 124950 files and directories currently installed.)\n",
            "Preparing to unpack .../poppler-utils_22.02.0-2ubuntu0.6_amd64.deb ...\n",
            "Unpacking poppler-utils (22.02.0-2ubuntu0.6) ...\n",
            "Setting up poppler-utils (22.02.0-2ubuntu0.6) ...\n",
            "Processing triggers for man-db (2.10.2-1) ...\n"
          ]
        }
      ]
    },
    {
      "cell_type": "code",
      "source": [
        "!apt-get update\n",
        "!apt-get install -y tesseract-ocr"
      ],
      "metadata": {
        "colab": {
          "base_uri": "https://localhost:8080/"
        },
        "id": "Qsz5IzC6F5bw",
        "outputId": "f096820d-88be-4691-9c79-1d88afea152f"
      },
      "execution_count": null,
      "outputs": [
        {
          "output_type": "stream",
          "name": "stdout",
          "text": [
            "\r0% [Working]\r            \rGet:1 https://cloud.r-project.org/bin/linux/ubuntu jammy-cran40/ InRelease [3,626 B]\n",
            "Get:2 https://developer.download.nvidia.com/compute/cuda/repos/ubuntu2204/x86_64  InRelease [1,581 B]\n",
            "Get:3 http://security.ubuntu.com/ubuntu jammy-security InRelease [129 kB]\n",
            "Hit:4 http://archive.ubuntu.com/ubuntu jammy InRelease\n",
            "Get:5 http://archive.ubuntu.com/ubuntu jammy-updates InRelease [128 kB]\n",
            "Get:6 https://developer.download.nvidia.com/compute/cuda/repos/ubuntu2204/x86_64  Packages [1,306 kB]\n",
            "Get:7 https://r2u.stat.illinois.edu/ubuntu jammy InRelease [6,555 B]\n",
            "Hit:8 https://ppa.launchpadcontent.net/deadsnakes/ppa/ubuntu jammy InRelease\n",
            "Hit:9 https://ppa.launchpadcontent.net/graphics-drivers/ppa/ubuntu jammy InRelease\n",
            "Get:10 https://r2u.stat.illinois.edu/ubuntu jammy/main all Packages [8,640 kB]\n",
            "Hit:11 https://ppa.launchpadcontent.net/ubuntugis/ppa/ubuntu jammy InRelease\n",
            "Get:12 http://archive.ubuntu.com/ubuntu jammy-backports InRelease [127 kB]\n",
            "Get:13 http://security.ubuntu.com/ubuntu jammy-security/universe amd64 Packages [1,229 kB]\n",
            "Get:14 http://archive.ubuntu.com/ubuntu jammy-updates/universe amd64 Packages [1,521 kB]\n",
            "Get:15 http://security.ubuntu.com/ubuntu jammy-security/main amd64 Packages [2,604 kB]\n",
            "Get:16 http://archive.ubuntu.com/ubuntu jammy-updates/main amd64 Packages [2,904 kB]\n",
            "Get:17 https://r2u.stat.illinois.edu/ubuntu jammy/main amd64 Packages [2,647 kB]\n",
            "Fetched 21.2 MB in 4s (4,914 kB/s)\n",
            "Reading package lists... Done\n",
            "W: Skipping acquire of configured file 'main/source/Sources' as repository 'https://r2u.stat.illinois.edu/ubuntu jammy InRelease' does not seem to provide it (sources.list entry misspelt?)\n",
            "Reading package lists... Done\n",
            "Building dependency tree... Done\n",
            "Reading state information... Done\n",
            "The following additional packages will be installed:\n",
            "  tesseract-ocr-eng tesseract-ocr-osd\n",
            "The following NEW packages will be installed:\n",
            "  tesseract-ocr tesseract-ocr-eng tesseract-ocr-osd\n",
            "0 upgraded, 3 newly installed, 0 to remove and 21 not upgraded.\n",
            "Need to get 4,816 kB of archives.\n",
            "After this operation, 15.6 MB of additional disk space will be used.\n",
            "Get:1 http://archive.ubuntu.com/ubuntu jammy/universe amd64 tesseract-ocr-eng all 1:4.00~git30-7274cfa-1.1 [1,591 kB]\n",
            "Get:2 http://archive.ubuntu.com/ubuntu jammy/universe amd64 tesseract-ocr-osd all 1:4.00~git30-7274cfa-1.1 [2,990 kB]\n",
            "Get:3 http://archive.ubuntu.com/ubuntu jammy/universe amd64 tesseract-ocr amd64 4.1.1-2.1build1 [236 kB]\n",
            "Fetched 4,816 kB in 2s (1,993 kB/s)\n",
            "Selecting previously unselected package tesseract-ocr-eng.\n",
            "(Reading database ... 124980 files and directories currently installed.)\n",
            "Preparing to unpack .../tesseract-ocr-eng_1%3a4.00~git30-7274cfa-1.1_all.deb ...\n",
            "Unpacking tesseract-ocr-eng (1:4.00~git30-7274cfa-1.1) ...\n",
            "Selecting previously unselected package tesseract-ocr-osd.\n",
            "Preparing to unpack .../tesseract-ocr-osd_1%3a4.00~git30-7274cfa-1.1_all.deb ...\n",
            "Unpacking tesseract-ocr-osd (1:4.00~git30-7274cfa-1.1) ...\n",
            "Selecting previously unselected package tesseract-ocr.\n",
            "Preparing to unpack .../tesseract-ocr_4.1.1-2.1build1_amd64.deb ...\n",
            "Unpacking tesseract-ocr (4.1.1-2.1build1) ...\n",
            "Setting up tesseract-ocr-eng (1:4.00~git30-7274cfa-1.1) ...\n",
            "Setting up tesseract-ocr-osd (1:4.00~git30-7274cfa-1.1) ...\n",
            "Setting up tesseract-ocr (4.1.1-2.1build1) ...\n",
            "Processing triggers for man-db (2.10.2-1) ...\n"
          ]
        }
      ]
    },
    {
      "cell_type": "code",
      "source": [
        "!tesseract --version"
      ],
      "metadata": {
        "colab": {
          "base_uri": "https://localhost:8080/"
        },
        "id": "Ck7EYsnGF_oM",
        "outputId": "7cef62d9-5dba-4e0e-f5db-a66b62add525"
      },
      "execution_count": null,
      "outputs": [
        {
          "output_type": "stream",
          "name": "stdout",
          "text": [
            "tesseract 4.1.1\n",
            " leptonica-1.82.0\n",
            "  libgif 5.1.9 : libjpeg 8d (libjpeg-turbo 2.1.1) : libpng 1.6.37 : libtiff 4.3.0 : zlib 1.2.11 : libwebp 1.2.2 : libopenjp2 2.4.0\n",
            " Found AVX2\n",
            " Found AVX\n",
            " Found FMA\n",
            " Found SSE\n",
            " Found libarchive 3.6.0 zlib/1.2.11 liblzma/5.2.5 bz2lib/1.0.8 liblz4/1.9.3 libzstd/1.4.8\n"
          ]
        }
      ]
    },
    {
      "cell_type": "code",
      "source": [
        "!pip install pytesseract"
      ],
      "metadata": {
        "colab": {
          "base_uri": "https://localhost:8080/"
        },
        "id": "eNEi8ipnGEj0",
        "outputId": "9a94ef49-0811-492b-97a9-f558fe483b5b"
      },
      "execution_count": null,
      "outputs": [
        {
          "output_type": "stream",
          "name": "stdout",
          "text": [
            "Collecting pytesseract\n",
            "  Downloading pytesseract-0.3.13-py3-none-any.whl.metadata (11 kB)\n",
            "Requirement already satisfied: packaging>=21.3 in /usr/local/lib/python3.11/dist-packages (from pytesseract) (24.2)\n",
            "Requirement already satisfied: Pillow>=8.0.0 in /usr/local/lib/python3.11/dist-packages (from pytesseract) (11.1.0)\n",
            "Downloading pytesseract-0.3.13-py3-none-any.whl (14 kB)\n",
            "Installing collected packages: pytesseract\n",
            "Successfully installed pytesseract-0.3.13\n"
          ]
        }
      ]
    },
    {
      "cell_type": "code",
      "source": [
        "import pytesseract\n",
        "\n",
        "# Set the path to the Tesseract executable\n",
        "pytesseract.pytesseract.tesseract_cmd = '/usr/bin/tesseract'"
      ],
      "metadata": {
        "id": "WVKLA372GKAW"
      },
      "execution_count": null,
      "outputs": []
    },
    {
      "cell_type": "markdown",
      "source": [
        "## Extract data"
      ],
      "metadata": {
        "id": "NShQRo5KmrwU"
      }
    },
    {
      "cell_type": "code",
      "source": [
        "from unstructured.partition.pdf import partition_pdf\n",
        "\n",
        "\n",
        "pdf_file_name = \"Haridwar-Travel-Guide-by-ixigo.com.pdf\"\n",
        "pdf_folder_path = \"/content/data/images/\"\n",
        "\n",
        "raw_pdf_elements = partition_pdf(\n",
        "    filename=pdf_file_name,\n",
        "    extract_images_in_pdf=True,\n",
        "    infer_table_structure=True,\n",
        "    chunking_strategy=\"by_title\",\n",
        "    max_characters=4000,\n",
        "    new_after_n_chars=3800,\n",
        "    combine_text_under_n_chars=2000,\n",
        "    image_output_dir_path=pdf_folder_path,\n",
        ")"
      ],
      "metadata": {
        "id": "4yTB895UClOa"
      },
      "execution_count": null,
      "outputs": []
    },
    {
      "cell_type": "code",
      "source": [
        "set([str(type(el)) for el in raw_pdf_elements])"
      ],
      "metadata": {
        "colab": {
          "base_uri": "https://localhost:8080/"
        },
        "id": "Nyw6zPwtIT0Z",
        "outputId": "63e23c9e-8860-4d6c-e42d-b817e11536d5"
      },
      "execution_count": null,
      "outputs": [
        {
          "output_type": "execute_result",
          "data": {
            "text/plain": [
              "{\"<class 'unstructured.documents.elements.CompositeElement'>\"}"
            ]
          },
          "metadata": {},
          "execution_count": 30
        }
      ]
    },
    {
      "cell_type": "code",
      "source": [
        "elements = raw_pdf_elements[3].metadata.orig_elements\n",
        "chunk_images = [el for el in elements if 'Image' in str(type(el))]\n",
        "chunk_images[0].to_dict()"
      ],
      "metadata": {
        "colab": {
          "base_uri": "https://localhost:8080/"
        },
        "id": "_kDCm9uVJ4yE",
        "outputId": "aa4de3f7-8768-4df5-baa0-8d205298bdcf"
      },
      "execution_count": null,
      "outputs": [
        {
          "output_type": "execute_result",
          "data": {
            "text/plain": [
              "{'type': 'Image',\n",
              " 'element_id': 'd3700d72-9457-404f-9523-080d21130af0',\n",
              " 'text': '',\n",
              " 'metadata': {'coordinates': {'points': ((72.22222222222221,\n",
              "     878.2222222222221),\n",
              "    (72.22222222222221, 1267.8055555555554),\n",
              "    (591.6666666666666, 1267.8055555555554),\n",
              "    (591.6666666666666, 878.2222222222221)),\n",
              "   'system': 'PixelSpace',\n",
              "   'layout_width': 2339,\n",
              "   'layout_height': 1653},\n",
              "  'last_modified': '2025-02-01T07:29:35',\n",
              "  'filetype': 'PPM',\n",
              "  'languages': ['eng'],\n",
              "  'page_number': 3,\n",
              "  'image_path': '/content/figures/figure-3-19.jpg'}}"
            ]
          },
          "metadata": {},
          "execution_count": 32
        }
      ]
    },
    {
      "cell_type": "code",
      "source": [
        "# Categorize extracted elements from a PDF into tables and texts.\n",
        "tables = []\n",
        "texts = []\n",
        "for element in raw_pdf_elements:\n",
        "    if \"unstructured.documents.elements.Table\" in str(type(element)):\n",
        "        tables.append(str(element))\n",
        "    elif \"unstructured.documents.elements.CompositeElement\" in str(type(element)):\n",
        "        texts.append(str(element))\n"
      ],
      "metadata": {
        "id": "zl6mHRUTHEEO"
      },
      "execution_count": null,
      "outputs": []
    },
    {
      "cell_type": "code",
      "source": [
        "print(texts)"
      ],
      "metadata": {
        "colab": {
          "base_uri": "https://localhost:8080/"
        },
        "id": "Kpua-5O6VteA",
        "outputId": "ee59d540-09eb-4d71-bf64-65446801b115"
      },
      "execution_count": null,
      "outputs": [
        {
          "output_type": "stream",
          "name": "stdout",
          "text": [
            "[\"ixigo\\n\\nHaridwar Travel Guide - http://www.ixigo.com/travel-guide/haridwar\\n\\nHaridwar\\n\\nRe\\n\\nOne of the seven holiest places for Hindus, Haridwar literally means a 'gateway to God', succinctly capturing its pious and spiritual character. Come here for an epiphanic union with the almighty, or just sit by the scintillating river Ganga and watch your stress float away with the swishing water and a cool, balming breeze.\\n\\n”\\n\\né&\\n\\né&\\n\\nThis Pdf and its contents are copyright © 2013,ixigo.com, all rights reserved. ixigo logo, the character and all other marks displayed herein are registered and/or common law trademarks of ixigo.com and/or third parties.\\n\\nFam ous For\\n\\nPlces To VsitRelyDusCity\\n\\nThe holy town of Haridwar marks the arrival of the River Ganga into the Northern plains, the first time since its origin at Gaumukh, Gangotri. Visitors hail from all across the country, and globe, for a dip in the holy waters of the river, which is believed to wash away one's sins and help attain salvation. The Ganges flows in rapids here, and people throng the Har ki Pauri to take a holy dip in the fast flowing waters. Har ki Pauri has an interesting legend which says that when Garuda, the holy bird, was carrying the pitcher of Amrita (nectar of the Gods), four drops fell, one of which made a pool in Haridwar, now known as Hari ki Pauri. Don’t go too deep or you run the risk of drowning. Evenings are a magical time here, when thousands of earthen lamps are immersed in the river after the aarti. Along the banks of the Ganges, the Chandi Devi Temple, built by the King of Kashmir, rests atop the Neel Parvat. Another important temple in the vicinity is the Maya Devi\\n\\nTemple, where, it is believed that Sati’s heart\\n\\nand navel fell. A cable car ride will take you to the Mansa Devi Temple. The holy town is one of the most sacred Hindu pilgrimage sites in India. The city is also famous for 12- yearly Kumbh Mela, when devotees throng here in large numbers. For a truly fervent, spiritual experience, attend the magnificent and elaborate evening aarti and prayer offerings at Har ki Pauri. Blessed with nature's bounty, Haridwar is home to beautiful flora and fauna. Rajaji National Park offers organised tours and safaris for a closer look at the wildlife. Padartha Farms, located within the premise of the Patanjali Yogpeeth, is the biggest food park in the country. It comes as a respite for city dwellers, with acres of lush farmland and meditation centres. The charming town has been immortalised in many a fiction tales, especially Ruskin Bond’s most loved stories. Remember Bara Bazaar from A Room On The Roof? A popular market, go shopping in the Bara Bazaar, located on the Railway Road. The local delicacies are strictly vegetarian and drinking is not allowed in the city.\", 'When To\\n\\npage 1\\n\\nVISIT http://www.ixigo.com/weather-in-haridwar-lp-1140406\\n\\nJan\\n\\nCold weather. Carry Heavy woollen. Max: 16.5°C Min: 8.5°C Rain: 0.0mm\\n\\nFeb\\n\\nCold weather. Carry Heavy woollen. Max: Min: Rain: 33.0mm 15.89999961 6.800000190 8530273°C 734863°C\\n\\nMar\\n\\nCold weather. Carry Heavy woollen, umbrella.\\n\\nMax: Min: Rain: 123.0mm 15.60000038 9.199999809 1469727°C 265137°C\\n\\nApr\\n\\nCold weather. Carry Heavy woollen. Max: Min: Rain: 0.0mm 23.39999961 13.10000038 8530273°C 1469727°C\\n\\nMay\\n\\nCold weather. Carry Heavy woollen. Max: Min: Rain: 0.0mm 22.89999961 12.19999980 8530273°C 9265137°C\\n\\nJun\\n\\nPleasant weather. Carry Light woollen, umbrella. Max: Min: 19.5°C Rain: 102.0mm 26.89999961\\n\\n8530273°C\\n\\nJul\\n\\nPleasant weather. Carry Light woollen, umbrella.\\n\\nixigo com\\n\\nHaridwar Travel Guide - http://www.ixigo.com/travel-guide/haridwar\\n\\nMax: 24.70000076 2939453°C Min: 18.39999961 8530273°C Rain: 186.0mm\\n\\n9\\n\\nHaridwar, Uttarakhand 249401, India\\n\\nAug\\n\\nPleasant weather. Carry Light woollen, umbrella.\\n\\nMax: 25.60000038 Min: 20.29999923 Rain: 639.0mm 1469727°C 7060547°C\\n\\nSep\\n\\nCold weather. Carry Heavy woollen, umbrella.\\n\\nMax:\\n\\nMax:\\n\\n19.20000076\\n\\nMin: 16.0°C\\n\\nRain: 138.0mm\\n\\nBelieved to be one the holiest Ghats in the country,\\n\\nHar Ki Pauri is supposedly the first place where Ganga touches plains, leaving behind the pristine ranges of the Himalayas. The ghat is also known as the Brahma Kund where you can see the stone which has an imprint of Lord Vishnu’s foot, as indicated by the name.&nbsp;\\n\\n2939453°C\\n\\nOct\\n\\nPleasant weather. Carry Light woollen. Max: Min: Rain: 30.0mm 24.39999961 8530273°C 19.10000038 1469727°C\\n\\nNov\\n\\nCold weather. Carry Heavy woollen. Max: Min: Rain: 6.0mm 23.29999923 13.80000019 7060547°C 0734863°C\\n\\nDec\\n\\nCold weather. Carry Heavy woollen. Max: 17.89999961 Min: 8.600000381 Rain: 18.0mm 8530273°C 469727°C\\n\\nThe most interesting part of this religious spot is the evening Aarti which is performed by priests on the banks of river Ganga. This highly enchanting experience at Har Ki Pauri is something to look forward to during a visit to the place for sure. During this time, leafed lamps can be seen floating on the river, bedecked with flowers and other offerings to the river. These lamps, easily available at different stalls near the ghat, create a splendid aura of lights which is further accentuated with the holy chants that fill the entire atmosphere with divine vibes.\\n\\nWhat To SEE 5 Sights http://www.ixigo.com/places-to-visit-see-in-haridwar-lp-1140406\\n\\n1 Har ki Pauri\\n\\n2 Mansa Devi Mandir', \"Railway Road, Haridwar, Uttarakhand 249403, India\\n\\nThis is perhaps the most famous temple at Haridwar, luring the seekers of divinity from and beyond. You can either take the trek to it or hop aboard the ropeway that'll have you here in less than 10 minutes. Both the modes to reach the place are surreal experiences.\\n\\nIt's believed that a visit to the Mansa Devi Temple fulfils all the wishes of the visitors who come to the temple. Devotees can often be seen tying red threads to the tree within the precincts. The belief says that once your wish is fulfilled, you should come back to the temple to untie the thread.\\n\\nLocated atop a peak on the Shivalik Hills, this temple is visited by travellers from all over the country and is one of the most revered ones in town. Mansa Devi is taken to be one of the vertex of the holy triangle formed between the three temples, Chandi Devi and Maya Devi being the other two.\\n\\n3 Ganesh Ghat\\n\\npage 2\\n\\nGanesh Ghat, Haridwar, Uttarakhand 249405, India\\n\\nRight across the famous Hanuman Temple is another wonder of Haridwar, Ganesh Ghat. This leisurely stretch of the banks of Ganga is quite famous with the residents for picnics and morning walks. One major attraction of the ghat is the Dam Kothi, a government owned villa, that stands towering by the swirling waves. The dam that bars the Ganga was built by the British, decades back, and is a major landmark at Haridwar. You can go to the Ganesh Ghat to spend some hours in solitude, away from the din of city life. It's also a favourite haunt of the lovers of photography, for both the hilltop temples of Mansa Devi and Chandi Devi are visible from here.\\n\\n4 Mercury Temple\\n\\n6 kms from Haridwar, Uttarakhand 249410, India\\n\\nAlso known as Paradeshwar Mahadev Temple,\\n\\nixigo com\\n\\nHaridwar Travel Guide - http://www.ixigo.com/travel-guide/haridwar\\n\\nMercury Temple is astounding both in its architecture as well as religious value. Located at M K Gandhi Road, it nestles a shivalinga that's wholly made out of mercury! A steady trickle of devotees can always be seen in the temple precincts that look quite alluring in the sandstone colour.\\n\\nMotichur sanctuary and Chilla sanctuary. It has been named after Sri C. Rajgopalachariya - the first and last Governor general of India, who was also popularly known as Rajaji. &nbsp;Spread over an area of 820.42 sq. km., the Park has been covered in three Districts- Haridwar, Dehraduna and Pauri Garhwal of Uttaranchal State, India.&nbsp;\", \"Dedicated to Lord Shiva,\\n\\nMercury Temple also has the rare rudraksha trees growing right within its compounds. While you say a prayer or two at the temple, don't forget to buy rudrakshas from inside the temple, for those are supposed to keep you safe against any harm.\\n\\n5 Rajaji National Park\\n\\n5/1, Ansari Road, Rajaji National Park, Haridwar, Uttarakhand 249410, India\\n\\nRepresenting the Shivalik ecosystem, rich in fossils,\\n\\nRajai National Park is a home to different species of animals including Leopard, Tiger, Sambar deer; antelopes such as the&nbsp;Jungle Cat,&nbsp;Nilgai, Goral,&nbsp;Hyena,&nbsp;Jackal, Leopard Cat, Civets and&nbsp;above all&nbsp;the Asian Elephant. The majestic Ganges flowing through the Park, the innumerable brooks and streams, make this place an ideal example of diverse flora and fauna, and amazing ecosystem.&nbsp;\\n\\nCreated in 1983, Rajai National Park is an amalgamation of three sanctuaries - Rajaji sanctuary,\\n\\nWhere To Eat 5 Places http://www.ixigo.com/foods-in-of-haridwar-lp-1140406\\n\\nEat\\n\\n5 Places\\n\\n1 Dosa Plaza\\n\\nNirmala Sarey, Opposite Railway Station, Haridwar, Uttarakhand 249401, India\\n\\n¢ +91-22-27830707\\n\\n+91-22-27830707\\n\\nIf you are an, ardent lover of South Indian food, and thought that you might not even hear of an option for the same in a town like Haridwar, Dosa Plaza is here to surprise you. Right opposite to the railway station, Dosa Plaza doles out the crunchiest, tastiest of dosas in the town, along with mini idlis and uttapams as their specialities. Chach, another delicacy, is something that's not to be missed here. Relatively new in the region, it's carve a niche with the upmarket ambiance and efficient service.\\n\\npage 3\\n\\n2 Big Ben Restaurant\\n\\nRailway Road, Haridwar Main Road, Devpura, Haridwar, Uttarakhand 249401, India\\n\\n¢\\n\\n+91-1334-220938\\n\\nEnjoy the soothing ambience of Big Ben Restaurant with one of the best veg thalis in town. The music here adds charm to the place which is rare to the religious town of Haridwar. Located at a walking distance from both the railway station and the bus stand, the restaurant is not only convenient to reach but is also perfect for a meal for the entire family. The service can be a bit staff here can sometimes make you work on your vocal chords more than it is required but the food makes up for it big time. Try the paranthas here along with raitas of different kinds.\\n\\n3 Invitation\\n\\ne e IxigO com\\n\\nHaridwar Travel Guide - http://www.ixigo.com/travel-guide/haridwar\\n\\nNational Highway 58, Govindpuri, Devpura, Haridwar, Uttarakhand 249410, India\\n\\n¢\\n\\n+91-1334-223244\\n\\nInvitation is located right in the heart of modern Haridwar, quite close to the Main Complex Area. Needless to say, it's one of the best places to dine in at. Harping more on the multi cuisine food, it's got the best of all worlds. Perfect for a family dinner, it has a wide range of snacks, Chinese, Continental and Indian fare on the menu. You can also dig into some sumptuous pasta, pizza and more here.\\n\\n4 Fun n Food\\n\\nfood. Snacks are the speciality of the restaurant, with spring rolls, sandwiches, pizzas and more as the favourite ones. It's also a favoured hangout zone for many, usually brimming with young, college crowd. It also boasts of an outdoor partying place, which can be reserved well in advance.\\n\\n5 Hoshiyar Puri\\n\\n9\\n\\nNational Highway 58, Devpura,\", \"Haridwar, Uttarakhand 249410, India\\n\\n¢ +91-98370-32342|+91-88813-88438\\n\\nFun n Food is a favourite with residents and tourists alike, being one of the first restaurants to have opened up at Haridwar. A multi cuisine posh facility, it boasts of an efficient service and more than average\\n\\n=\\n\\nUpper Road, Haridwar, Uttarakhand 249401, India\\n\\nAnother good option for exploring what North-Indian cuisine is made of is at Hoshiyar Puri. It's one of the most renowned and oldest food joints at Haridwar, having a fan following of its own.&nbsp; Boasting of an amazing collection of dishes on the menu, the restaurant is known for its lachha parantha and frozen rice pudding (kheer). Moreover, one should not miss aloo gobhi ki sabzi and dal fry here. The prices are affordable, the ambience is nice and the staff is courteous which make the overall experience of having food here one of the best in town.\\n\\npage 4\"]\n"
          ]
        }
      ]
    },
    {
      "cell_type": "code",
      "source": [
        "print(tables)"
      ],
      "metadata": {
        "colab": {
          "base_uri": "https://localhost:8080/"
        },
        "id": "vctXROl3r9dW",
        "outputId": "0ba1c8e9-7af4-46e9-f3dc-5ff0fb878ae4"
      },
      "execution_count": null,
      "outputs": [
        {
          "output_type": "stream",
          "name": "stdout",
          "text": [
            "[]\n"
          ]
        }
      ]
    },
    {
      "cell_type": "code",
      "source": [
        "# Get the images from the CompositeElement objects\n",
        "def get_images(chunks):\n",
        "    images = []\n",
        "    for chunk in chunks:\n",
        "        if \"CompositeElement\" in str(type(chunk)):\n",
        "            chunk_els = chunk.metadata.orig_elements\n",
        "            for el in chunk_els:\n",
        "                # print(dir(el.metadata))\n",
        "                if \"Image\" in str(type(el)):\n",
        "                    images.append(el.metadata.image_path)\n",
        "    return images\n",
        "\n",
        "images = get_images(raw_pdf_elements)"
      ],
      "metadata": {
        "id": "X__eVU7wKN4F"
      },
      "execution_count": null,
      "outputs": []
    },
    {
      "cell_type": "code",
      "source": [
        "images[0]"
      ],
      "metadata": {
        "colab": {
          "base_uri": "https://localhost:8080/",
          "height": 35
        },
        "id": "RnlZS-r3LIOE",
        "outputId": "c85d79c9-e9c7-45f0-fdda-5eca5087dd99"
      },
      "execution_count": null,
      "outputs": [
        {
          "output_type": "execute_result",
          "data": {
            "text/plain": [
              "'/content/figures/figure-1-1.jpg'"
            ],
            "application/vnd.google.colaboratory.intrinsic+json": {
              "type": "string"
            }
          },
          "metadata": {},
          "execution_count": 83
        }
      ]
    },
    {
      "cell_type": "code",
      "source": [
        "import base64\n",
        "from IPython.display import Image, display\n",
        "\n",
        "def display_base64_image(base64_code):\n",
        "    # Decode the base64 string to binary\n",
        "    image_data = base64.b64decode(base64_code)\n",
        "    # Display the image\n",
        "    display(Image(data=image_data))\n",
        "\n",
        "display_base64_image(images_base64[25])"
      ],
      "metadata": {
        "colab": {
          "base_uri": "https://localhost:8080/",
          "height": 96
        },
        "id": "4255q31kKbiE",
        "outputId": "9dd47cb4-5b2c-44c3-8db8-f5b3962686ee"
      },
      "execution_count": null,
      "outputs": [
        {
          "output_type": "display_data",
          "data": {
            "image/jpeg": "[encoded data removed]",
            "text/plain": [
              "<IPython.core.display.Image object>"
            ]
          },
          "metadata": {}
        }
      ]
    },
    {
      "cell_type": "code",
      "source": [
        "!pip install tiktoken"
      ],
      "metadata": {
        "colab": {
          "base_uri": "https://localhost:8080/"
        },
        "id": "JHMU4hsdHWgb",
        "outputId": "748e3308-fbba-4a4b-c59e-911fcbad5a24"
      },
      "execution_count": null,
      "outputs": [
        {
          "output_type": "stream",
          "name": "stdout",
          "text": [
            "Collecting tiktoken\n",
            "  Downloading tiktoken-0.8.0-cp311-cp311-manylinux_2_17_x86_64.manylinux2014_x86_64.whl.metadata (6.6 kB)\n",
            "Requirement already satisfied: regex>=2022.1.18 in /usr/local/lib/python3.11/dist-packages (from tiktoken) (2024.11.6)\n",
            "Requirement already satisfied: requests>=2.26.0 in /usr/local/lib/python3.11/dist-packages (from tiktoken) (2.32.3)\n",
            "Requirement already satisfied: charset-normalizer<4,>=2 in /usr/local/lib/python3.11/dist-packages (from requests>=2.26.0->tiktoken) (3.4.1)\n",
            "Requirement already satisfied: idna<4,>=2.5 in /usr/local/lib/python3.11/dist-packages (from requests>=2.26.0->tiktoken) (3.10)\n",
            "Requirement already satisfied: urllib3<3,>=1.21.1 in /usr/local/lib/python3.11/dist-packages (from requests>=2.26.0->tiktoken) (2.3.0)\n",
            "Requirement already satisfied: certifi>=2017.4.17 in /usr/local/lib/python3.11/dist-packages (from requests>=2.26.0->tiktoken) (2024.12.14)\n",
            "Downloading tiktoken-0.8.0-cp311-cp311-manylinux_2_17_x86_64.manylinux2014_x86_64.whl (1.2 MB)\n",
            "\u001b[2K   \u001b[90m━━━━━━━━━━━━━━━━━━━━━━━━━━━━━━━━━━━━━━━━\u001b[0m \u001b[32m1.2/1.2 MB\u001b[0m \u001b[31m10.5 MB/s\u001b[0m eta \u001b[36m0:00:00\u001b[0m\n",
            "\u001b[?25hInstalling collected packages: tiktoken\n",
            "Successfully installed tiktoken-0.8.0\n"
          ]
        }
      ]
    },
    {
      "cell_type": "code",
      "source": [
        "from langchain.text_splitter import CharacterTextSplitter\n",
        "# Optional: Enforce a specific token size for texts\n",
        "text_splitter = CharacterTextSplitter.from_tiktoken_encoder(\n",
        "    chunk_size=10000, chunk_overlap=0\n",
        ")\n",
        "joined_texts = \" \".join(texts)\n",
        "texts_4k_token = text_splitter.split_text(joined_texts)"
      ],
      "metadata": {
        "id": "UfQG2K2oHHz1"
      },
      "execution_count": null,
      "outputs": []
    },
    {
      "cell_type": "code",
      "source": [
        "# def encode_image(image_path: str) -> str:\n",
        "#     \"\"\"Getting the base64 string\"\"\"\n",
        "#     with open(image_path, \"rb\") as image_file:\n",
        "#         return base64.b64encode(image_file.read()).decode(\"utf-8\")\n"
      ],
      "metadata": {
        "id": "f4QeEbTjHzXa"
      },
      "execution_count": null,
      "outputs": []
    },
    {
      "cell_type": "markdown",
      "source": [
        "## Use Gemini API"
      ],
      "metadata": {
        "id": "y-DIl9R8oZEy"
      }
    },
    {
      "cell_type": "code",
      "source": [
        "import google.generativeai as genai\n",
        "from google.colab import userdata\n",
        "import os\n",
        "\n",
        "GOOGLE_API_KEY=userdata.get('GOOGLE_API_KEY')\n",
        "genai.configure(api_key=GOOGLE_API_KEY)\n",
        "\n",
        "os.environ[\"GOOGLE_API_KEY\"] = GOOGLE_API_KEY"
      ],
      "metadata": {
        "id": "t7GXuJeBob0Y"
      },
      "execution_count": null,
      "outputs": []
    },
    {
      "cell_type": "markdown",
      "source": [
        "## Summarize the data"
      ],
      "metadata": {
        "id": "VAPiTHX3kd3X"
      }
    },
    {
      "cell_type": "markdown",
      "source": [
        "# Text summary"
      ],
      "metadata": {
        "id": "egFQmmh1wGXB"
      }
    },
    {
      "cell_type": "code",
      "source": [
        "MODEL_NAME = \"models/gemini-1.5-pro-latest\"\n",
        "model = genai.GenerativeModel(model_name=MODEL_NAME)\n",
        "\n",
        "def make_prompt(element):\n",
        "  return f\"\"\"You are an assistant tasked with summarizing tables and text for retrieval. \\\n",
        "    These summaries will be embedded and used to retrieve the raw text or table elements. \\\n",
        "    Give a concise summary of the table or text that is well optimized for retrieval. Table or text: {element} \"\"\"\n",
        "\n",
        "def generate_text_summaries(texts, tables, summarize_texts=False):\n",
        "  \"\"\"\n",
        "    Summarize text elements\n",
        "\n",
        "    Args:\n",
        "      texts: List of str\n",
        "      tables: List of str\n",
        "      summarize_texts: Bool to summarize texts\n",
        "  \"\"\"\n",
        "\n",
        "  text_summaries, table_summaries = [], []\n",
        "  # print(dir(model))\n",
        "\n",
        "  if texts and summarize_texts:\n",
        "    text_summaries = [\n",
        "            model.generate_content(make_prompt(text)).candidates[0].content.parts[0].text\n",
        "            for text in texts\n",
        "        ]\n",
        "\n",
        "  if tables:\n",
        "    table_summaries = [\n",
        "            model.generate_content(make_prompt(table)).candidates[0].content.parts[0].text\n",
        "            for table in tables\n",
        "        ]\n",
        "\n",
        "  return text_summaries, table_summaries\n"
      ],
      "metadata": {
        "id": "yCGEPFAUkt3b"
      },
      "execution_count": null,
      "outputs": []
    },
    {
      "cell_type": "code",
      "source": [
        "text_summaries, table_summaries = generate_text_summaries(texts, tables, summarize_texts=True)"
      ],
      "metadata": {
        "id": "DKRPFj8Hrd_e"
      },
      "execution_count": null,
      "outputs": []
    },
    {
      "cell_type": "code",
      "source": [
        "text_summaries"
      ],
      "metadata": {
        "colab": {
          "base_uri": "https://localhost:8080/"
        },
        "id": "MXx1W3FgrtX1",
        "outputId": "36271f45-d184-4976-c7d1-432d63b43266"
      },
      "execution_count": null,
      "outputs": [
        {
          "output_type": "execute_result",
          "data": {
            "text/plain": [
              "[\"Haridwar, a holy Hindu city, is a gateway to God where the Ganges River enters the Northern plains.  Pilgrims bathe in the holy waters at Har ki Pauri, believed to wash away sins.  Key sites include Chandi Devi Temple, Maya Devi Temple, and Mansa Devi Temple.  Haridwar hosts the Kumbh Mela every 12 years.  Evening aarti ceremonies at Har ki Pauri are a major attraction.  Rajaji National Park offers wildlife viewing.  Patanjali Yogpeeth's Padartha Farms is a large food park.  Bara Bazaar is a popular market.  The city is vegetarian and prohibits alcohol.\\n\",\n",
              " 'Haridwar monthly weather and Har Ki Pauri highlight.  Jan-May and Nov-Dec: Cold, heavy woolens. June-Oct: Pleasant, light woolens, umbrella (except Oct).  Har Ki Pauri:  Holy Ghat, Ganga touches plains, Vishnu footprint, evening Aarti with floating lamps.\\n',\n",
              " 'Haridwar religious sites: Mansa Devi Temple (ropeway access, wish-fulfilling), Ganesh Ghat (near Hanuman Temple, Dam Kothi, Ganga views), and Mercury Temple (Paradeshwar Mahadev, mercury shivalinga).\\n',\n",
              " 'Haridwar attractions and dining guide.  Mercury Temple features rudraksha trees. Rajaji National Park (est. 1983) protects diverse flora and fauna including elephants, tigers, leopards, and various antelopes. Dining options include: 1. Dosa Plaza (South Indian). 2. Big Ben Restaurant (vegetarian thalis). 3. Invitation (multi-cuisine). 4. Fun n Food (snacks). 5. Hoshiyar Puri.\\n',\n",
              " 'Two Haridwar, India restaurants: Fun n Food (multi-cuisine, established, popular) and Hoshiyar Puri (North Indian, known for lachha parantha, kheer, aloo gobhi, dal fry, affordable). Contact number for Fun n Food: +91-98370-32342/+91-88813-88438.\\n']"
            ]
          },
          "metadata": {},
          "execution_count": 137
        }
      ]
    },
    {
      "cell_type": "code",
      "source": [
        "table_summaries"
      ],
      "metadata": {
        "colab": {
          "base_uri": "https://localhost:8080/"
        },
        "id": "-e9qOMs4uwaC",
        "outputId": "4b5a9c6e-222f-4fc3-9144-cc6d5b2001a8"
      },
      "execution_count": null,
      "outputs": [
        {
          "output_type": "execute_result",
          "data": {
            "text/plain": [
              "[]"
            ]
          },
          "metadata": {},
          "execution_count": 138
        }
      ]
    },
    {
      "cell_type": "markdown",
      "source": [
        "# Image summary"
      ],
      "metadata": {
        "id": "Sj-9zGcQwJtw"
      }
    },
    {
      "cell_type": "code",
      "source": [
        "# also called encoding of image\n",
        "def image_to_base64(image_path):\n",
        "    # Open the image file in binary mode\n",
        "    with open(image_path, \"rb\") as image_file:\n",
        "        # Read the image content and encode it in base64\n",
        "        encoded_image = base64.b64encode(image_file.read()).decode('utf-8')\n",
        "    return encoded_image\n",
        "\n"
      ],
      "metadata": {
        "id": "2gavpKOVTRK_"
      },
      "execution_count": null,
      "outputs": []
    },
    {
      "cell_type": "code",
      "source": [
        "image_path = \"/content/figures/figure-1-1.jpg\"\n",
        "image_base64 = image_to_base64(image_path)\n",
        "image_base64"
      ],
      "metadata": {
        "colab": {
          "base_uri": "https://localhost:8080/",
          "height": 125
        },
        "id": "ZidI8Ku40KDU",
        "outputId": "aeef43b8-8b9a-48d6-a099-f02a36a79a24"
      },
      "execution_count": null,
      "outputs": [
        {
          "output_type": "execute_result",
          "data": {
            "text/plain": [
              "'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'"
            ],
            "application/vnd.google.colaboratory.intrinsic+json": {
              "type": "string"
            }
          },
          "metadata": {},
          "execution_count": 159
        }
      ]
    },
    {
      "cell_type": "code",
      "source": [
        "def summarize_image(base64_image):\n",
        "    \"\"\"Generate a summary from an image using Gemini API.\"\"\"\n",
        "    response = model.generate_content(\n",
        "        contents=[\n",
        "            {\n",
        "                \"role\": \"user\",\n",
        "                \"parts\": [\n",
        "                    {\"text\": \"Summarize the content of this image in a few sentences.\"},\n",
        "                    {\n",
        "                        \"inline_data\": {\n",
        "                            \"mime_type\": \"image/jpeg\",  # Change based on image type\n",
        "                            \"data\": base64_image\n",
        "                        }\n",
        "                    }\n",
        "                ]\n",
        "            }\n",
        "        ]\n",
        "    )\n",
        "\n",
        "    return response.candidates[0].content.parts[0].text\n",
        "\n",
        "\n",
        "def generate_image_summaries(images_base64):\n",
        "    \"\"\"Generate summaries for a list of images.\"\"\"\n",
        "    image_summaries = []\n",
        "    for image_base64 in images_base64:\n",
        "        summary = summarize_image(image_base64)\n",
        "        image_summaries.append(summary)\n",
        "\n",
        "    return image_summaries\n"
      ],
      "metadata": {
        "id": "vZ27rS-NwNbe"
      },
      "execution_count": null,
      "outputs": []
    },
    {
      "cell_type": "code",
      "source": [
        "# image_summary = summarize_image(image_base64)\n",
        "images_base64 = [image_to_base64(image) for image in images]\n",
        "print(images_base64[3])"
      ],
      "metadata": {
        "colab": {
          "base_uri": "https://localhost:8080/"
        },
        "id": "WPi9WfWdxoq5",
        "outputId": "129b0874-0a34-4f49-8440-ef8ae019f3c3"
      },
      "execution_count": null,
      "outputs": [
        {
          "output_type": "stream",
          "name": "stdout",
          "text": [
            "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\n"
          ]
        }
      ]
    },
    {
      "cell_type": "code",
      "source": [
        "image_summaries = generate_image_summaries(images_base64)"
      ],
      "metadata": {
        "id": "BIVuWXh82ow-"
      },
      "execution_count": null,
      "outputs": []
    },
    {
      "cell_type": "code",
      "source": [
        "image_summaries"
      ],
      "metadata": {
        "colab": {
          "base_uri": "https://localhost:8080/"
        },
        "id": "VSqj0c1uyIRA",
        "outputId": "f4543107-6e03-455a-aaec-e55ac87ac71d"
      },
      "execution_count": null,
      "outputs": [
        {
          "output_type": "execute_result",
          "data": {
            "text/plain": [
              "['The image shows the logo for ixigo.com.  The \"ix\" is orange, while the \"igo\" and \".com\" are purple. The overall design is simple and modern.\\n',\n",
              " \"The image shows a pair of grey quotation marks, oriented to indicate the beginning of a quote. They are slightly pixelated, suggesting they've been enlarged or are from a lower-resolution source.\",\n",
              " 'The image depicts a simple, gently sloping curved line. It starts at the top left and curves downwards to the bottom right, resembling a shallow crescent or a portion of a larger circle. The line is thin and appears gray or light in color.\\n',\n",
              " \"A cartoon male character, dressed as a tour guide or explorer, is depicted. He wears khaki shorts, vest, hat, and boots, and is equipped with a camera and whistle. He's smiling and pointing towards something to his right, presumably directing attention to a point of interest.\\n\",\n",
              " 'A cartoon tour guide, wearing khaki attire, a safari hat, and glasses, is pointing towards something off-screen to his left.  A curved, gray line extends from the left side of the image towards the center, possibly indicating the direction of his attention or a path.\\n',\n",
              " 'The image is a QR code.  QR codes store information that can be read by a smartphone or other device with a camera and QR code reader app.  Scanning this code would reveal the data encoded within it, which could be a website link, contact information, or other data. I cannot determine the content without scanning it.\\n',\n",
              " 'A large crowd of people gathers along the banks and in the waters of a river, likely the Ganges, at a significant Hindu pilgrimage site like Haridwar or Rishikesh.  Elaborate temples and other religious structures line the river, and a clock tower stands prominently on one side. The sky displays a beautiful blend of pink and blue hues, suggesting dusk or dawn.  The scene evokes a sense of vibrant religious activity and devotion.\\n',\n",
              " 'The image depicts a calendar icon with a large orange checkmark superimposed on it. This suggests a completed task, a confirmed date, or a successful scheduling action.  It visually represents a positive confirmation related to a date or event.\\n',\n",
              " 'The image is a simple orange banner with the word \"VISIT\" in large white letters.  At the bottom, a URL is provided: http://www.ixigo.com/weather-in-haridwar-p-1140406, suggesting the banner is an advertisement for visiting Haridwar and checking the weather there via ixigo.com.',\n",
              " 'The image shows the logo for ixigo.com.  The \"ix\" is orange, while the \"igo\" and \".com\" are purple.  The \"i\"s are stylized as simple dots.\\n',\n",
              " 'The image is an advertisement for tourist sights in Haridwar, India.  It highlights \"5 Sights\" to see and provides a link to the travel website ixigo.com for more information.',\n",
              " 'The image shows a bustling scene at a Hindu temple complex, likely in India.  Several ornate temple structures with tiered towers are visible, surrounded by a large crowd of people.  The setting appears to be near a river or body of water, with hills visible in the background.\\n',\n",
              " 'The image shows the top of a light-colored stone temple or similar structure against a clear blue sky. The temple features a pointed spire with a small copper or reddish-brown top.  A railing encircles the structure beneath the spire, and the lower portion of the building is partially obscured by green trees.  Some thin wires or cables are also visible, likely for lighting or other utilities.\\n',\n",
              " \"The image is a simple, gray location pin icon. It's the typical teardrop shape used to mark a position or place on a map, often seen in digital mapping and GPS applications.  It has a circular top and a pointed bottom.\\n\",\n",
              " 'A large crowd of people gathers along the banks of a river, likely the Ganges in India, with a bridge visible in the background.  Many are dressed in colorful clothing, engaging in activities that appear to be religious rituals, possibly bathing or making offerings.  Market stalls selling various goods line the riverbank, creating a bustling atmosphere.\\n',\n",
              " 'The image is a simple, gray location pin icon, commonly used to represent a place or point of interest on a map.  It has a circular head and a pointed bottom.  The icon is blurred or pixelated, suggesting a low resolution.\\n',\n",
              " 'Inside a temple, a person in white and black clothing pours a liquid offering over a Shiva Lingam adorned with flowers.  A figure in orange robes, possibly a priest or sadhu, stands with a raised hand in the background. A framed image depicting deities hangs on the wall behind them.',\n",
              " 'The image shows the logo for ixigo.com.  The \"ix\" is orange, while the \"igo\" and \".com\" are purple.  It appears to be a brand logo for a website, likely related to travel or booking services.\\n',\n",
              " 'A Bengal tiger is shown in a close-up, walking forward.  Its orange and black stripes are distinct, and it appears alert with its mouth slightly open.  The blurred background suggests a natural, outdoor habitat.\\n',\n",
              " 'The image is a simple, blurred gradient of gold hues.  It transitions smoothly from a lighter, almost yellowish gold in the center to a slightly darker, more amber gold at the edges.  The overall effect is soft and luminous.\\n',\n",
              " 'The image is an advertisement for a list of 5 places to eat in Haridwar, India.  The URL listed directs to the ixigo.com website for more information.',\n",
              " 'This image shows the interior of a Dosa Plaza restaurant.  A large, illuminated menu board displays various dosa dishes and other items with prices.  Several employees wearing orange caps are working behind the counter, while a customer stands in front.  A Coke machine and other promotional materials are also visible.',\n",
              " \"The image is a simple, slightly blurred, gray location pin icon.  It's the typical teardrop shape with a circular head and pointed bottom, often used to represent a specific point on a map.  The image lacks any other details or markings.\\n\",\n",
              " 'The image shows the interior of a modestly furnished restaurant named \"Big-Ben\".  Wooden chairs and tables with checkered tablecloths fill the space.  There are mirrored walls and a partially visible kitchen/serving area in the back. A few patrons are visible near the back, and string lights add a touch of decoration.',\n",
              " \"The image is a simple, gray location pin icon, commonly used to represent a specific place or point of interest on a map. It's a universal symbol for location or GPS coordinates.  It's blurry or low resolution, suggesting it might be a small or zoomed-in section of a larger image.\\n\",\n",
              " 'The image depicts a dining area, possibly in a restaurant or hotel.  It features tables set with dark red tablecloths and chairs with dark wooden frames. The walls are cream-colored with a dark wood wainscoting, accented by patterned wallpaper and framed pictures.  A decorative border runs along the ceiling.',\n",
              " 'The image shows the logo for ixigo.com.  The \"ix\" is orange, while the \"igo\" and \".com\" are purple.  The overall design is simple and clean.',\n",
              " 'The image is a simple, gray location pin icon, like those commonly used on maps to mark a specific place or point of interest. It has a circular head and a pointed bottom.  It is a standard visual symbol for location.',\n",
              " 'Several thalis (Indian platters) are presented with parathas (flatbreads), each accompanied by small bowls containing various side dishes. These sides include raita (yogurt dip), chole (chickpea curry), a dry orange relish, and possibly another curry or dal (lentil dish). The setting appears to be a casual dining environment, likely a restaurant or home.',\n",
              " 'This image shows the exterior of a restaurant named \"Fun N Food\".  A woman walks past the storefront, which features a large image of a family eating.  Parked scooters are visible in the foreground, and a white van is parked further down the street.  A banner featuring numerous headshots of people is displayed on the building across the street.',\n",
              " \"The image is a simple, gray location pin icon.  It's the typical teardrop shape used to mark a place on a map or indicate a location.  The icon is slightly pixelated or blurred.\\n\"]"
            ]
          },
          "metadata": {},
          "execution_count": 174
        }
      ]
    },
    {
      "cell_type": "markdown",
      "source": [
        "## Store in vector db - Chroma"
      ],
      "metadata": {
        "id": "mRo5ttoJ3dyp"
      }
    },
    {
      "cell_type": "code",
      "source": [
        "import chromadb\n",
        "from sentence_transformers import SentenceTransformer"
      ],
      "metadata": {
        "id": "xekIRPesBuUA"
      },
      "execution_count": null,
      "outputs": []
    },
    {
      "cell_type": "code",
      "source": [
        "# Initialize ChromaDB client\n",
        "chroma_client = chromadb.PersistentClient(path=\"./chroma_db\")\n",
        "\n",
        "# # Create a collection for storing summaries\n",
        "# collection = chroma_client.get_or_create_collection(name=\"summaries\")\n",
        "# Create a collection for storing summaries with embeddings\n",
        "collection = chroma_client.get_or_create_collection(name=\"summaries_with_embeddings\")\n",
        "\n",
        "# Load Sentence-Transformers model\n",
        "embedding_model = SentenceTransformer(\"all-MiniLM-L6-v2\")"
      ],
      "metadata": {
        "id": "-E4RScAb3ixG"
      },
      "execution_count": null,
      "outputs": []
    },
    {
      "cell_type": "code",
      "source": [
        "def store_summary_in_chroma(id, summary, metadata):\n",
        "    \"\"\"Store summary in ChromaDB.\"\"\"\n",
        "    collection.add(\n",
        "        ids=[id],\n",
        "        documents=[summary],\n",
        "        metadatas=[metadata],\n",
        "        embeddings=[embedding_model.encode(summary).tolist()]\n",
        "    )"
      ],
      "metadata": {
        "id": "B9sK9OF6CGqP"
      },
      "execution_count": null,
      "outputs": []
    },
    {
      "cell_type": "code",
      "source": [
        "# Store Summaries in ChromaDB\n",
        "for i, summary in enumerate(text_summaries):\n",
        "    store_summary_in_chroma(f\"text_{i}\", summary, {\"type\": \"text\"})\n",
        "\n",
        "if table_summaries:\n",
        "  for i, summary in enumerate(table_summaries):\n",
        "      store_summary_in_chroma(f\"table_{i}\", summary, {\"type\": \"table\"})\n",
        "\n",
        "for i, summary in enumerate(image_summaries):\n",
        "    store_summary_in_chroma(f\"image_{i}\", summary, {\"type\": \"image\"})"
      ],
      "metadata": {
        "colab": {
          "base_uri": "https://localhost:8080/"
        },
        "id": "FzTkay6_CK3K",
        "outputId": "50836257-5b92-4bc1-9c2b-f2eec2e28c12"
      },
      "execution_count": null,
      "outputs": [
        {
          "output_type": "stream",
          "name": "stderr",
          "text": [
            "WARNING:chromadb.segment.impl.vector.local_persistent_hnsw:Add of existing embedding ID: text_0\n",
            "WARNING:chromadb.segment.impl.metadata.sqlite:Insert of existing embedding ID: text_0\n",
            "WARNING:chromadb.segment.impl.vector.local_persistent_hnsw:Add of existing embedding ID: text_1\n",
            "WARNING:chromadb.segment.impl.metadata.sqlite:Insert of existing embedding ID: text_1\n",
            "WARNING:chromadb.segment.impl.vector.local_persistent_hnsw:Add of existing embedding ID: text_2\n",
            "WARNING:chromadb.segment.impl.metadata.sqlite:Insert of existing embedding ID: text_2\n",
            "WARNING:chromadb.segment.impl.vector.local_persistent_hnsw:Add of existing embedding ID: text_3\n",
            "WARNING:chromadb.segment.impl.metadata.sqlite:Insert of existing embedding ID: text_3\n",
            "WARNING:chromadb.segment.impl.vector.local_persistent_hnsw:Add of existing embedding ID: text_4\n",
            "WARNING:chromadb.segment.impl.metadata.sqlite:Insert of existing embedding ID: text_4\n",
            "WARNING:chromadb.segment.impl.vector.local_persistent_hnsw:Add of existing embedding ID: image_0\n",
            "WARNING:chromadb.segment.impl.metadata.sqlite:Insert of existing embedding ID: image_0\n",
            "WARNING:chromadb.segment.impl.vector.local_persistent_hnsw:Add of existing embedding ID: image_1\n",
            "WARNING:chromadb.segment.impl.metadata.sqlite:Insert of existing embedding ID: image_1\n",
            "WARNING:chromadb.segment.impl.vector.local_persistent_hnsw:Add of existing embedding ID: image_2\n",
            "WARNING:chromadb.segment.impl.metadata.sqlite:Insert of existing embedding ID: image_2\n",
            "WARNING:chromadb.segment.impl.vector.local_persistent_hnsw:Add of existing embedding ID: image_3\n",
            "WARNING:chromadb.segment.impl.metadata.sqlite:Insert of existing embedding ID: image_3\n",
            "WARNING:chromadb.segment.impl.vector.local_persistent_hnsw:Add of existing embedding ID: image_4\n",
            "WARNING:chromadb.segment.impl.metadata.sqlite:Insert of existing embedding ID: image_4\n",
            "WARNING:chromadb.segment.impl.vector.local_persistent_hnsw:Add of existing embedding ID: image_5\n",
            "WARNING:chromadb.segment.impl.metadata.sqlite:Insert of existing embedding ID: image_5\n",
            "WARNING:chromadb.segment.impl.vector.local_persistent_hnsw:Add of existing embedding ID: image_6\n",
            "WARNING:chromadb.segment.impl.metadata.sqlite:Insert of existing embedding ID: image_6\n",
            "WARNING:chromadb.segment.impl.vector.local_persistent_hnsw:Add of existing embedding ID: image_7\n",
            "WARNING:chromadb.segment.impl.metadata.sqlite:Insert of existing embedding ID: image_7\n",
            "WARNING:chromadb.segment.impl.vector.local_persistent_hnsw:Add of existing embedding ID: image_8\n",
            "WARNING:chromadb.segment.impl.metadata.sqlite:Insert of existing embedding ID: image_8\n",
            "WARNING:chromadb.segment.impl.vector.local_persistent_hnsw:Add of existing embedding ID: image_9\n",
            "WARNING:chromadb.segment.impl.metadata.sqlite:Insert of existing embedding ID: image_9\n",
            "WARNING:chromadb.segment.impl.vector.local_persistent_hnsw:Add of existing embedding ID: image_10\n",
            "WARNING:chromadb.segment.impl.metadata.sqlite:Insert of existing embedding ID: image_10\n",
            "WARNING:chromadb.segment.impl.vector.local_persistent_hnsw:Add of existing embedding ID: image_11\n",
            "WARNING:chromadb.segment.impl.metadata.sqlite:Insert of existing embedding ID: image_11\n",
            "WARNING:chromadb.segment.impl.vector.local_persistent_hnsw:Add of existing embedding ID: image_12\n",
            "WARNING:chromadb.segment.impl.metadata.sqlite:Insert of existing embedding ID: image_12\n",
            "WARNING:chromadb.segment.impl.vector.local_persistent_hnsw:Add of existing embedding ID: image_13\n",
            "WARNING:chromadb.segment.impl.metadata.sqlite:Insert of existing embedding ID: image_13\n",
            "WARNING:chromadb.segment.impl.vector.local_persistent_hnsw:Add of existing embedding ID: image_14\n",
            "WARNING:chromadb.segment.impl.metadata.sqlite:Insert of existing embedding ID: image_14\n",
            "WARNING:chromadb.segment.impl.vector.local_persistent_hnsw:Add of existing embedding ID: image_15\n",
            "WARNING:chromadb.segment.impl.metadata.sqlite:Insert of existing embedding ID: image_15\n",
            "WARNING:chromadb.segment.impl.vector.local_persistent_hnsw:Add of existing embedding ID: image_16\n",
            "WARNING:chromadb.segment.impl.metadata.sqlite:Insert of existing embedding ID: image_16\n",
            "WARNING:chromadb.segment.impl.vector.local_persistent_hnsw:Add of existing embedding ID: image_17\n",
            "WARNING:chromadb.segment.impl.metadata.sqlite:Insert of existing embedding ID: image_17\n",
            "WARNING:chromadb.segment.impl.vector.local_persistent_hnsw:Add of existing embedding ID: image_18\n",
            "WARNING:chromadb.segment.impl.metadata.sqlite:Insert of existing embedding ID: image_18\n",
            "WARNING:chromadb.segment.impl.vector.local_persistent_hnsw:Add of existing embedding ID: image_19\n",
            "WARNING:chromadb.segment.impl.metadata.sqlite:Insert of existing embedding ID: image_19\n",
            "WARNING:chromadb.segment.impl.vector.local_persistent_hnsw:Add of existing embedding ID: image_20\n",
            "WARNING:chromadb.segment.impl.metadata.sqlite:Insert of existing embedding ID: image_20\n",
            "WARNING:chromadb.segment.impl.vector.local_persistent_hnsw:Add of existing embedding ID: image_21\n",
            "WARNING:chromadb.segment.impl.metadata.sqlite:Insert of existing embedding ID: image_21\n",
            "WARNING:chromadb.segment.impl.vector.local_persistent_hnsw:Add of existing embedding ID: image_22\n",
            "WARNING:chromadb.segment.impl.metadata.sqlite:Insert of existing embedding ID: image_22\n",
            "WARNING:chromadb.segment.impl.vector.local_persistent_hnsw:Add of existing embedding ID: image_23\n",
            "WARNING:chromadb.segment.impl.metadata.sqlite:Insert of existing embedding ID: image_23\n",
            "WARNING:chromadb.segment.impl.vector.local_persistent_hnsw:Add of existing embedding ID: image_24\n",
            "WARNING:chromadb.segment.impl.metadata.sqlite:Insert of existing embedding ID: image_24\n",
            "WARNING:chromadb.segment.impl.vector.local_persistent_hnsw:Add of existing embedding ID: image_25\n",
            "WARNING:chromadb.segment.impl.metadata.sqlite:Insert of existing embedding ID: image_25\n",
            "WARNING:chromadb.segment.impl.vector.local_persistent_hnsw:Add of existing embedding ID: image_26\n",
            "WARNING:chromadb.segment.impl.metadata.sqlite:Insert of existing embedding ID: image_26\n",
            "WARNING:chromadb.segment.impl.vector.local_persistent_hnsw:Add of existing embedding ID: image_27\n",
            "WARNING:chromadb.segment.impl.metadata.sqlite:Insert of existing embedding ID: image_27\n",
            "WARNING:chromadb.segment.impl.vector.local_persistent_hnsw:Add of existing embedding ID: image_28\n",
            "WARNING:chromadb.segment.impl.metadata.sqlite:Insert of existing embedding ID: image_28\n",
            "WARNING:chromadb.segment.impl.vector.local_persistent_hnsw:Add of existing embedding ID: image_29\n",
            "WARNING:chromadb.segment.impl.metadata.sqlite:Insert of existing embedding ID: image_29\n",
            "WARNING:chromadb.segment.impl.vector.local_persistent_hnsw:Add of existing embedding ID: image_30\n",
            "WARNING:chromadb.segment.impl.metadata.sqlite:Insert of existing embedding ID: image_30\n"
          ]
        }
      ]
    },
    {
      "cell_type": "code",
      "source": [
        "def retrieve_similar_summaries(query):\n",
        "    \"\"\"Retrieve the most relevant stored summaries.\"\"\"\n",
        "    results = collection.query(query_texts=[query], n_results=3)\n",
        "    return results[\"documents\"]\n"
      ],
      "metadata": {
        "id": "tZ7nbLD5CgDw"
      },
      "execution_count": null,
      "outputs": []
    },
    {
      "cell_type": "code",
      "source": [
        "# Example Retrieval Query\n",
        "query = \"Tell me about a holy city\"\n",
        "retrieved_summaries = retrieve_similar_summaries(query)\n",
        "print(\"🔍 Retrieved Summaries:\", retrieved_summaries)"
      ],
      "metadata": {
        "colab": {
          "base_uri": "https://localhost:8080/"
        },
        "id": "IQUGBgF9CjmY",
        "outputId": "db0042d6-1471-42ee-96c3-633af9879166"
      },
      "execution_count": null,
      "outputs": [
        {
          "output_type": "stream",
          "name": "stdout",
          "text": [
            "🔍 Retrieved Summaries: [[\"Haridwar, a holy Hindu city, is a gateway to God where the Ganges River enters the Northern plains.  Pilgrims bathe in the holy waters at Har ki Pauri, believed to wash away sins.  Key sites include Chandi Devi Temple, Maya Devi Temple, and Mansa Devi Temple.  Haridwar hosts the Kumbh Mela every 12 years.  Evening aarti ceremonies at Har ki Pauri are a major attraction.  Rajaji National Park offers wildlife viewing.  Patanjali Yogpeeth's Padartha Farms is a large food park.  Bara Bazaar is a popular market.  The city is vegetarian and prohibits alcohol.\\n\", 'The image shows a bustling scene at a Hindu temple complex, likely in India.  Several ornate temple structures with tiered towers are visible, surrounded by a large crowd of people.  The setting appears to be near a river or body of water, with hills visible in the background.\\n', 'A large crowd of people gathers along the banks and in the waters of a river, likely the Ganges, at a significant Hindu pilgrimage site like Haridwar or Rishikesh.  Elaborate temples and other religious structures line the river, and a clock tower stands prominently on one side. The sky displays a beautiful blend of pink and blue hues, suggesting dusk or dawn.  The scene evokes a sense of vibrant religious activity and devotion.\\n']]\n"
          ]
        }
      ]
    },
    {
      "cell_type": "markdown",
      "source": [
        "## TODO setup multimodel embedding models\n",
        "#### Need an image embedding model (like CLIP) to generate embeddings for images and a text embedding model (like sentence-transformers) for text.\n",
        "\n"
      ],
      "metadata": {
        "id": "VEWVs3V9E7g6"
      }
    },
    {
      "cell_type": "markdown",
      "source": [
        "# RAG Pipeline"
      ],
      "metadata": {
        "id": "teiMcGvLFUzz"
      }
    },
    {
      "cell_type": "code",
      "source": [],
      "metadata": {
        "id": "ROa9VUiTFTQU"
      },
      "execution_count": null,
      "outputs": []
    }
  ]
}